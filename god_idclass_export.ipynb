{
  "nbformat": 4,
  "nbformat_minor": 0,
  "metadata": {
    "colab": {
      "name": "export frozen graph for inference",
      "version": "0.3.2",
      "provenance": [],
      "collapsed_sections": [],
      "include_colab_link": true
    },
    "kernelspec": {
      "name": "python3",
      "display_name": "Python 3"
    },
    "accelerator": "GPU"
  },
  "cells": [
    {
      "cell_type": "markdown",
      "metadata": {
        "id": "view-in-github",
        "colab_type": "text"
      },
      "source": [
        "<a href=\"https://colab.research.google.com/github/hailusong/colab-god-idclass/blob/master/god_idclass_export.ipynb\" target=\"_parent\"><img src=\"https://colab.research.google.com/assets/colab-badge.svg\" alt=\"Open In Colab\"/></a>"
      ]
    },
    {
      "metadata": {
        "id": "TjlYaLbjqZ8T",
        "colab_type": "text"
      },
      "cell_type": "markdown",
      "source": [
        "# Export Custom Trained Google Object Detection for Inference"
      ]
    },
    {
      "metadata": {
        "id": "2R9EiJRx7bMQ",
        "colab_type": "text"
      },
      "cell_type": "markdown",
      "source": [
        "Environment variables setup.<br>\n",
        "**Tensorflow runtime version list** can be found at [here](https://cloud.google.com/ml-engine/docs/tensorflow/runtime-version-list)"
      ]
    },
    {
      "metadata": {
        "id": "P6Xb78JiIUaY",
        "colab_type": "code",
        "colab": {}
      },
      "cell_type": "code",
      "source": [
        "DEFAULT_HOME='/content'\n",
        "TF_RT_VERSION='1.13'\n",
        "PYTHON_VERSION='3.5'\n",
        "\n",
        "YOUR_GCS_BUCKET='id-norm'\n",
        "YOUR_PROJECT='orbital-purpose-130316'"
      ],
      "execution_count": 0,
      "outputs": []
    },
    {
      "metadata": {
        "id": "JNpmPzJwevJ-",
        "colab_type": "text"
      },
      "cell_type": "markdown",
      "source": [
        "Select the right model from [this official list](https://github.com/tensorflow/models/blob/master/research/object_detection/g3doc/detection_model_zoo.md):\n",
        "\n",
        "| model | dataset | datetime | notes |\n",
        "| - |  - | - | - |\n",
        "| ssd_inception_v2 | coco | 2018_01_28 | |\n",
        "| ~~ssd_inception_v3~~ | ~~pets~~ | ~~11_06_2017~~ | |\n",
        "| ssd_mobilenet_v2 | coco | 2018_03_29 | |\n",
        "| faster_rcnn_resnet101 | coco | 11_06_2017 | |"
      ]
    },
    {
      "metadata": {
        "id": "_hXDIPGzewMU",
        "colab_type": "code",
        "colab": {}
      },
      "cell_type": "code",
      "source": [
        "MODEL_NAME = 'ssd_mobilenet_v2'\n",
        "PRETRAINED_DATASET = 'coco'\n",
        "PRETRAINED_TS = '2018_03_29'\n",
        "PRETRAINED_MODEL_NAME = f'{MODEL_NAME}_{PRETRAINED_DATASET}_{PRETRAINED_TS}'\n",
        "PIPELINE_CONFIG_NAME = f'pipeline_{MODEL_NAME}'"
      ],
      "execution_count": 0,
      "outputs": []
    },
    {
      "metadata": {
        "id": "QhymH7QsfU_7",
        "colab_type": "code",
        "colab": {}
      },
      "cell_type": "code",
      "source": [
        "# This is for faster_rcnn_resnet101\n",
        "# CHECKPOINT_NUMBER = 3485\n",
        "\n",
        "# This is for ssd_mobilenet_v2\n",
        "CHECKPOINT_NUMBER = 5197\n"
      ],
      "execution_count": 0,
      "outputs": []
    },
    {
      "metadata": {
        "id": "0bAXZIZvDcv8",
        "colab_type": "text"
      },
      "cell_type": "markdown",
      "source": [
        "## Session and Environment Verification (Destination - Local)"
      ]
    },
    {
      "metadata": {
        "id": "ogk6pbZ_DAYc",
        "colab_type": "text"
      },
      "cell_type": "markdown",
      "source": [
        "Establish security session with Google Cloud"
      ]
    },
    {
      "metadata": {
        "id": "JuDI1KX7rRpq",
        "colab_type": "code",
        "colab": {}
      },
      "cell_type": "code",
      "source": [
        "from google.colab import auth\n",
        "auth.authenticate_user()\n"
      ],
      "execution_count": 0,
      "outputs": []
    },
    {
      "metadata": {
        "id": "L2u7WXAwd8Si",
        "colab_type": "text"
      },
      "cell_type": "markdown",
      "source": [
        "################# RE-RUN ABOVE CELLS IF NEED TO RESTART RUNTIME #################"
      ]
    },
    {
      "metadata": {
        "id": "1mU8k4b2DZ8C",
        "colab_type": "text"
      },
      "cell_type": "markdown",
      "source": [
        "Verify Versions: TF, Python, IPython and prompt_toolkit (these two need to have compatible version), and protoc"
      ]
    },
    {
      "metadata": {
        "id": "p8pW_0h7r4L5",
        "colab_type": "code",
        "outputId": "ca8fa94d-4c29-484e-87d9-d9e9430d1b8e",
        "colab": {
          "base_uri": "https://localhost:8080/",
          "height": 34
        }
      },
      "cell_type": "code",
      "source": [
        "import tensorflow as tf\n",
        "print(tf.__version__)\n",
        "assert(tf.__version__.startswith(TF_RT_VERSION + '.')), f'tf.__version__ {tf.__version__} not matching with specified TF runtime version env variable {TF_RT_VERSION}'"
      ],
      "execution_count": 0,
      "outputs": [
        {
          "output_type": "stream",
          "text": [
            "1.13.1\n"
          ],
          "name": "stdout"
        }
      ]
    },
    {
      "metadata": {
        "id": "d-WRNGIpFfo-",
        "colab_type": "code",
        "outputId": "8c23eb17-6540-4429-b378-d6ad0f24e1df",
        "colab": {
          "base_uri": "https://localhost:8080/",
          "height": 238
        }
      },
      "cell_type": "code",
      "source": [
        "!python -V\n",
        "!ipython --version\n",
        "!pip show prompt_toolkit\n",
        "!protoc --version"
      ],
      "execution_count": 0,
      "outputs": [
        {
          "output_type": "stream",
          "text": [
            "Python 3.6.7\n",
            "5.5.0\n",
            "Name: prompt-toolkit\n",
            "Version: 1.0.15\n",
            "Summary: Library for building powerful interactive command lines in Python\n",
            "Home-page: https://github.com/jonathanslenders/python-prompt-toolkit\n",
            "Author: Jonathan Slenders\n",
            "Author-email: UNKNOWN\n",
            "License: UNKNOWN\n",
            "Location: /usr/local/lib/python3.6/dist-packages\n",
            "Requires: six, wcwidth\n",
            "Required-by: jupyter-console, ipython\n",
            "libprotoc 3.0.0\n"
          ],
          "name": "stdout"
        }
      ]
    },
    {
      "metadata": {
        "id": "omvtVm1tEXTk",
        "colab_type": "text"
      },
      "cell_type": "markdown",
      "source": [
        "## Install Google Object Detection API in Colab\n",
        "Reference is https://colab.research.google.com/drive/1kHEQK2uk35xXZ_bzMUgLkoysJIWwznYr\n"
      ]
    },
    {
      "metadata": {
        "id": "V2S37bciJ0rW",
        "colab_type": "text"
      },
      "cell_type": "markdown",
      "source": [
        "### Downgrade prompt-toolkit to 1.0.15 (Destination - Local)\n",
        "Run this **ONLY** if the Installation not Working"
      ]
    },
    {
      "metadata": {
        "id": "x0dlIgSUJ19q",
        "colab_type": "code",
        "colab": {}
      },
      "cell_type": "code",
      "source": [
        "# !pip install 'prompt-toolkit==1.0.15'"
      ],
      "execution_count": 0,
      "outputs": []
    },
    {
      "metadata": {
        "id": "wsjTyacRJ-ji",
        "colab_type": "text"
      },
      "cell_type": "markdown",
      "source": [
        "### Google Object Detection API Installation (Destination - Local)"
      ]
    },
    {
      "metadata": {
        "id": "V8sD3HbnEhq1",
        "colab_type": "code",
        "outputId": "b2397e36-a300-4099-c7b1-5e484c4f4d9a",
        "colab": {
          "base_uri": "https://localhost:8080/",
          "height": 51
        }
      },
      "cell_type": "code",
      "source": [
        "!apt-get install -y -qq protobuf-compiler python-pil python-lxml\n",
        "![ ! -e {DEFAULT_HOME}/models ] && git clone --depth=1 --quiet https://github.com/tensorflow/models.git {DEFAULT_HOME}/models\n",
        "!ls {DEFAULT_HOME}/models"
      ],
      "execution_count": 0,
      "outputs": [
        {
          "output_type": "stream",
          "text": [
            "AUTHORS     CONTRIBUTING.md    LICENSE\t README.md  samples    WORKSPACE\n",
            "CODEOWNERS  ISSUE_TEMPLATE.md  official  research   tutorials\n"
          ],
          "name": "stdout"
        }
      ]
    },
    {
      "metadata": {
        "id": "Lrcxm-rnEpEJ",
        "colab_type": "code",
        "outputId": "d8053ddd-f10b-4027-cc1a-e92f20f7b6e8",
        "colab": {
          "base_uri": "https://localhost:8080/",
          "height": 34
        }
      },
      "cell_type": "code",
      "source": [
        "import os\n",
        "os.chdir(f'{DEFAULT_HOME}/models/research')\n",
        "!pwd"
      ],
      "execution_count": 0,
      "outputs": [
        {
          "output_type": "stream",
          "text": [
            "/content/models/research\n"
          ],
          "name": "stdout"
        }
      ]
    },
    {
      "metadata": {
        "id": "z8_fKK8SGX4k",
        "colab_type": "text"
      },
      "cell_type": "markdown",
      "source": [
        "*From Wikipedia ...*: \n",
        "\n",
        "**protocol buffers** are a language-neutral, platform-neutral extensible mechanism for serializing structured data – think XML, but smaller, faster, and simpler. \n",
        "\n",
        "You define how you want your data to be structured once, then you can **use special generated source code to easily write and read your structured data to and from a variety of data streams and using a variety of languages**.\n",
        "\n",
        "Remember **.proto defines structured data** and **protoc generates the source code** the serailize/de-serialize."
      ]
    },
    {
      "metadata": {
        "id": "k77QnbWPEuUU",
        "colab_type": "code",
        "outputId": "d4b0149f-9b92-4779-8701-f75775170280",
        "colab": {
          "base_uri": "https://localhost:8080/",
          "height": 51
        }
      },
      "cell_type": "code",
      "source": [
        "!protoc object_detection/protos/*.proto --python_out=.\n",
        "# !ls object_detection/protos/*.proto\n",
        "# !cat object_detection/protos/anchor_generator.proto\n",
        "!ls {DEFAULT_HOME}/models/research/object_detection/builders/anchor*"
      ],
      "execution_count": 0,
      "outputs": [
        {
          "output_type": "stream",
          "text": [
            "/content/models/research/object_detection/builders/anchor_generator_builder.py\n",
            "/content/models/research/object_detection/builders/anchor_generator_builder_test.py\n"
          ],
          "name": "stdout"
        }
      ]
    },
    {
      "metadata": {
        "id": "muV6amLl4Bya",
        "colab_type": "text"
      },
      "cell_type": "markdown",
      "source": [
        "#### Add Google Object Detection API into System Path"
      ]
    },
    {
      "metadata": {
        "id": "RS2Aj9YEEv5_",
        "colab_type": "code",
        "colab": {}
      },
      "cell_type": "code",
      "source": [
        "import sys\n",
        "sys.path.append(f'{DEFAULT_HOME}/models/research')\n",
        "sys.path.append(f'{DEFAULT_HOME}/models/research/slim')"
      ],
      "execution_count": 0,
      "outputs": []
    },
    {
      "metadata": {
        "id": "LbDcBTuIXwBZ",
        "colab_type": "text"
      },
      "cell_type": "markdown",
      "source": [
        "Note that ! calls out to a shell (in a **NEW** process), while % affects the **SAME** process associated with the notebook.\n",
        "\n",
        "Since we append pathes to sys.path, we **HAVE TO** use % command to run the Python\n",
        "\n",
        "Also it is **IMPORTANT** to have **%matplotlib inline** otherwise %run model_builder_test.py will **cause function attribute error** when accessing matplotlib.pyplot attributes from **iPython's run_line_magic** "
      ]
    },
    {
      "metadata": {
        "id": "KrYcIPx7XPHG",
        "colab_type": "code",
        "colab": {}
      },
      "cell_type": "code",
      "source": [
        "# !find . -name 'inception*' -print\n",
        "%matplotlib inline"
      ],
      "execution_count": 0,
      "outputs": []
    },
    {
      "metadata": {
        "id": "ccpkEmORExv-",
        "colab_type": "code",
        "outputId": "8634de36-b6d6-40ac-d64a-b4a2c7449bea",
        "colab": {
          "base_uri": "https://localhost:8080/",
          "height": 102
        }
      },
      "cell_type": "code",
      "source": [
        "# If see the error 'function' object has no attribute 'called', just run the %matplotlib cell and this cell AGAIN \n",
        "%run object_detection/builders/model_builder_test.py"
      ],
      "execution_count": 0,
      "outputs": [
        {
          "output_type": "stream",
          "text": [
            "............s...\n",
            "----------------------------------------------------------------------\n",
            "Ran 16 tests in 0.103s\n",
            "\n",
            "OK (skipped=1)\n"
          ],
          "name": "stderr"
        }
      ]
    },
    {
      "metadata": {
        "id": "ydGSO6Zbsjxs",
        "colab_type": "text"
      },
      "cell_type": "markdown",
      "source": [
        "## Export Custom Trained Model"
      ]
    },
    {
      "metadata": {
        "id": "-Z0jct9Syxyf",
        "colab_type": "code",
        "colab": {}
      },
      "cell_type": "code",
      "source": [
        "def del_all_flags(FLAGS, excls):\n",
        "  flags_dict = FLAGS._flags()\n",
        "  keys_list = [keys for keys in flags_dict]\n",
        "  for keys in keys_list:\n",
        "    if keys in excls:\n",
        "      print(f'SKIPPING exclusion attribute {keys}')\n",
        "      continue\n",
        "\n",
        "    print(f'removing attribute {keys}')\n",
        "    FLAGS.__delattr__(keys)\n",
        "\n",
        "# if running inside IPython notebook, the python session will be maintained across\n",
        "# cells, so does the tf.app.flags. That will cause flags defined twice error\n",
        "# if we %run the app multiple times. The workaroud is to always clean up\n",
        "# the flags before defining them.\n",
        "# --------------------------\n",
        "# flags = tf.app.flags\n",
        "# del_all_flags(flags.FLAGS, [])"
      ],
      "execution_count": 0,
      "outputs": []
    },
    {
      "metadata": {
        "id": "2gUWUtTTsm8r",
        "colab_type": "code",
        "outputId": "24691505-ba63-490d-d8d3-0c6639ed91c7",
        "colab": {
          "base_uri": "https://localhost:8080/",
          "height": 1737
        }
      },
      "cell_type": "code",
      "source": [
        "# !gsutil cp gs://${YOUR_GCS_BUCKET}/model_dir/model.ckpt-${CHECKPOINT_NUMBER}.* .\n",
        "\n",
        "%run object_detection/export_inference_graph.py \\\n",
        "    --logtostderr \\\n",
        "    --input_type image_tensor \\\n",
        "    --pipeline_config_path gs://{YOUR_GCS_BUCKET}/data/{PIPELINE_CONFIG_NAME}_processed.config \\\n",
        "    --trained_checkpoint_prefix gs://{YOUR_GCS_BUCKET}/model_dir_{MODEL_NAME}/model.ckpt-{CHECKPOINT_NUMBER} \\\n",
        "    --output_directory gs://{YOUR_GCS_BUCKET}/exported_graphs_{MODEL_NAME}\n"
      ],
      "execution_count": 0,
      "outputs": [
        {
          "output_type": "stream",
          "text": [
            "WARNING:tensorflow:From /content/models/research/object_detection/exporter.py:309: to_float (from tensorflow.python.ops.math_ops) is deprecated and will be removed in a future version.\n",
            "Instructions for updating:\n",
            "Use tf.cast instead.\n"
          ],
          "name": "stdout"
        },
        {
          "output_type": "stream",
          "text": [
            "W0327 20:19:14.580830 140589220386688 deprecation.py:323] From /content/models/research/object_detection/exporter.py:309: to_float (from tensorflow.python.ops.math_ops) is deprecated and will be removed in a future version.\n",
            "Instructions for updating:\n",
            "Use tf.cast instead.\n"
          ],
          "name": "stderr"
        },
        {
          "output_type": "stream",
          "text": [
            "WARNING:tensorflow:From /usr/local/lib/python3.6/dist-packages/tensorflow/python/ops/tensor_array_ops.py:162: colocate_with (from tensorflow.python.framework.ops) is deprecated and will be removed in a future version.\n",
            "Instructions for updating:\n",
            "Colocations handled automatically by placer.\n"
          ],
          "name": "stdout"
        },
        {
          "output_type": "stream",
          "text": [
            "W0327 20:19:14.594055 140589220386688 deprecation.py:323] From /usr/local/lib/python3.6/dist-packages/tensorflow/python/ops/tensor_array_ops.py:162: colocate_with (from tensorflow.python.framework.ops) is deprecated and will be removed in a future version.\n",
            "Instructions for updating:\n",
            "Colocations handled automatically by placer.\n"
          ],
          "name": "stderr"
        },
        {
          "output_type": "stream",
          "text": [
            "WARNING:tensorflow:From /usr/local/lib/python3.6/dist-packages/tensorflow/python/ops/image_ops_impl.py:1055: to_int32 (from tensorflow.python.ops.math_ops) is deprecated and will be removed in a future version.\n",
            "Instructions for updating:\n",
            "Use tf.cast instead.\n"
          ],
          "name": "stdout"
        },
        {
          "output_type": "stream",
          "text": [
            "W0327 20:19:14.660840 140589220386688 deprecation.py:323] From /usr/local/lib/python3.6/dist-packages/tensorflow/python/ops/image_ops_impl.py:1055: to_int32 (from tensorflow.python.ops.math_ops) is deprecated and will be removed in a future version.\n",
            "Instructions for updating:\n",
            "Use tf.cast instead.\n"
          ],
          "name": "stderr"
        },
        {
          "output_type": "stream",
          "text": [
            "INFO:tensorflow:Scale of 0 disables regularizer.\n"
          ],
          "name": "stdout"
        },
        {
          "output_type": "stream",
          "text": [
            "I0327 20:19:14.734469 140589220386688 regularizers.py:98] Scale of 0 disables regularizer.\n"
          ],
          "name": "stderr"
        },
        {
          "output_type": "stream",
          "text": [
            "INFO:tensorflow:Scale of 0 disables regularizer.\n"
          ],
          "name": "stdout"
        },
        {
          "output_type": "stream",
          "text": [
            "I0327 20:19:19.858944 140589220386688 regularizers.py:98] Scale of 0 disables regularizer.\n"
          ],
          "name": "stderr"
        },
        {
          "output_type": "stream",
          "text": [
            "INFO:tensorflow:Scale of 0 disables regularizer.\n"
          ],
          "name": "stdout"
        },
        {
          "output_type": "stream",
          "text": [
            "I0327 20:19:19.887633 140589220386688 regularizers.py:98] Scale of 0 disables regularizer.\n"
          ],
          "name": "stderr"
        },
        {
          "output_type": "stream",
          "text": [
            "INFO:tensorflow:depth of additional conv before box predictor: 0\n"
          ],
          "name": "stdout"
        },
        {
          "output_type": "stream",
          "text": [
            "I0327 20:19:19.890779 140589220386688 convolutional_box_predictor.py:150] depth of additional conv before box predictor: 0\n"
          ],
          "name": "stderr"
        },
        {
          "output_type": "stream",
          "text": [
            "INFO:tensorflow:Scale of 0 disables regularizer.\n"
          ],
          "name": "stdout"
        },
        {
          "output_type": "stream",
          "text": [
            "I0327 20:19:20.759135 140589220386688 regularizers.py:98] Scale of 0 disables regularizer.\n"
          ],
          "name": "stderr"
        },
        {
          "output_type": "stream",
          "text": [
            "WARNING:tensorflow:From /usr/local/lib/python3.6/dist-packages/tensorflow/contrib/layers/python/layers/layers.py:1624: flatten (from tensorflow.python.layers.core) is deprecated and will be removed in a future version.\n",
            "Instructions for updating:\n",
            "Use keras.layers.flatten instead.\n"
          ],
          "name": "stdout"
        },
        {
          "output_type": "stream",
          "text": [
            "W0327 20:19:21.383319 140589220386688 deprecation.py:323] From /usr/local/lib/python3.6/dist-packages/tensorflow/contrib/layers/python/layers/layers.py:1624: flatten (from tensorflow.python.layers.core) is deprecated and will be removed in a future version.\n",
            "Instructions for updating:\n",
            "Use keras.layers.flatten instead.\n"
          ],
          "name": "stderr"
        },
        {
          "output_type": "stream",
          "text": [
            "INFO:tensorflow:Scale of 0 disables regularizer.\n"
          ],
          "name": "stdout"
        },
        {
          "output_type": "stream",
          "text": [
            "I0327 20:19:21.399800 140589220386688 regularizers.py:98] Scale of 0 disables regularizer.\n"
          ],
          "name": "stderr"
        },
        {
          "output_type": "stream",
          "text": [
            "INFO:tensorflow:Scale of 0 disables regularizer.\n"
          ],
          "name": "stdout"
        },
        {
          "output_type": "stream",
          "text": [
            "I0327 20:19:21.436800 140589220386688 regularizers.py:98] Scale of 0 disables regularizer.\n"
          ],
          "name": "stderr"
        },
        {
          "output_type": "stream",
          "text": [
            "INFO:tensorflow:Scale of 0 disables regularizer.\n"
          ],
          "name": "stdout"
        },
        {
          "output_type": "stream",
          "text": [
            "I0327 20:19:22.392328 140589220386688 regularizers.py:98] Scale of 0 disables regularizer.\n"
          ],
          "name": "stderr"
        },
        {
          "output_type": "stream",
          "text": [
            "WARNING:tensorflow:From /content/models/research/object_detection/exporter.py:338: get_or_create_global_step (from tensorflow.contrib.framework.python.ops.variables) is deprecated and will be removed in a future version.\n",
            "Instructions for updating:\n",
            "Please switch to tf.train.get_or_create_global_step\n"
          ],
          "name": "stdout"
        },
        {
          "output_type": "stream",
          "text": [
            "W0327 20:19:22.546540 140589220386688 deprecation.py:323] From /content/models/research/object_detection/exporter.py:338: get_or_create_global_step (from tensorflow.contrib.framework.python.ops.variables) is deprecated and will be removed in a future version.\n",
            "Instructions for updating:\n",
            "Please switch to tf.train.get_or_create_global_step\n"
          ],
          "name": "stderr"
        },
        {
          "output_type": "stream",
          "text": [
            "WARNING:tensorflow:From /content/models/research/object_detection/exporter.py:494: print_model_analysis (from tensorflow.contrib.tfprof.model_analyzer) is deprecated and will be removed after 2018-01-01.\n",
            "Instructions for updating:\n",
            "Use `tf.profiler.profile(graph, run_meta, op_log, cmd, options)`. Build `options` with `tf.profiler.ProfileOptionBuilder`. See README.md for details\n"
          ],
          "name": "stdout"
        },
        {
          "output_type": "stream",
          "text": [
            "W0327 20:19:22.556745 140589220386688 deprecation.py:323] From /content/models/research/object_detection/exporter.py:494: print_model_analysis (from tensorflow.contrib.tfprof.model_analyzer) is deprecated and will be removed after 2018-01-01.\n",
            "Instructions for updating:\n",
            "Use `tf.profiler.profile(graph, run_meta, op_log, cmd, options)`. Build `options` with `tf.profiler.ProfileOptionBuilder`. See README.md for details\n"
          ],
          "name": "stderr"
        },
        {
          "output_type": "stream",
          "text": [
            "WARNING:tensorflow:From /usr/local/lib/python3.6/dist-packages/tensorflow/python/profiler/internal/flops_registry.py:142: tensor_shape_from_node_def_name (from tensorflow.python.framework.graph_util_impl) is deprecated and will be removed in a future version.\n",
            "Instructions for updating:\n",
            "Use tf.compat.v1.graph_util.remove_training_nodes\n"
          ],
          "name": "stdout"
        },
        {
          "output_type": "stream",
          "text": [
            "W0327 20:19:22.563072 140589220386688 deprecation.py:323] From /usr/local/lib/python3.6/dist-packages/tensorflow/python/profiler/internal/flops_registry.py:142: tensor_shape_from_node_def_name (from tensorflow.python.framework.graph_util_impl) is deprecated and will be removed in a future version.\n",
            "Instructions for updating:\n",
            "Use tf.compat.v1.graph_util.remove_training_nodes\n",
            "319 ops no flops stats due to incomplete shapes.\n",
            "319 ops no flops stats due to incomplete shapes.\n"
          ],
          "name": "stderr"
        },
        {
          "output_type": "stream",
          "text": [
            "WARNING:tensorflow:From /usr/local/lib/python3.6/dist-packages/tensorflow/python/training/saver.py:1266: checkpoint_exists (from tensorflow.python.training.checkpoint_management) is deprecated and will be removed in a future version.\n",
            "Instructions for updating:\n",
            "Use standard file APIs to check for files with this prefix.\n"
          ],
          "name": "stdout"
        },
        {
          "output_type": "stream",
          "text": [
            "W0327 20:19:27.736665 140589220386688 deprecation.py:323] From /usr/local/lib/python3.6/dist-packages/tensorflow/python/training/saver.py:1266: checkpoint_exists (from tensorflow.python.training.checkpoint_management) is deprecated and will be removed in a future version.\n",
            "Instructions for updating:\n",
            "Use standard file APIs to check for files with this prefix.\n"
          ],
          "name": "stderr"
        },
        {
          "output_type": "stream",
          "text": [
            "INFO:tensorflow:Restoring parameters from gs://id-norm/model_dir/model.ckpt-3485\n"
          ],
          "name": "stdout"
        },
        {
          "output_type": "stream",
          "text": [
            "I0327 20:19:27.986274 140589220386688 saver.py:1270] Restoring parameters from gs://id-norm/model_dir/model.ckpt-3485\n"
          ],
          "name": "stderr"
        },
        {
          "output_type": "stream",
          "text": [
            "INFO:tensorflow:Restoring parameters from gs://id-norm/model_dir/model.ckpt-3485\n"
          ],
          "name": "stdout"
        },
        {
          "output_type": "stream",
          "text": [
            "I0327 20:20:28.625418 140589220386688 saver.py:1270] Restoring parameters from gs://id-norm/model_dir/model.ckpt-3485\n"
          ],
          "name": "stderr"
        },
        {
          "output_type": "stream",
          "text": [
            "WARNING:tensorflow:From /usr/local/lib/python3.6/dist-packages/tensorflow/python/tools/freeze_graph.py:232: convert_variables_to_constants (from tensorflow.python.framework.graph_util_impl) is deprecated and will be removed in a future version.\n",
            "Instructions for updating:\n",
            "Use tf.compat.v1.graph_util.convert_variables_to_constants\n"
          ],
          "name": "stdout"
        },
        {
          "output_type": "stream",
          "text": [
            "W0327 20:20:57.266402 140589220386688 deprecation.py:323] From /usr/local/lib/python3.6/dist-packages/tensorflow/python/tools/freeze_graph.py:232: convert_variables_to_constants (from tensorflow.python.framework.graph_util_impl) is deprecated and will be removed in a future version.\n",
            "Instructions for updating:\n",
            "Use tf.compat.v1.graph_util.convert_variables_to_constants\n"
          ],
          "name": "stderr"
        },
        {
          "output_type": "stream",
          "text": [
            "WARNING:tensorflow:From /usr/local/lib/python3.6/dist-packages/tensorflow/python/framework/graph_util_impl.py:245: extract_sub_graph (from tensorflow.python.framework.graph_util_impl) is deprecated and will be removed in a future version.\n",
            "Instructions for updating:\n",
            "Use tf.compat.v1.graph_util.extract_sub_graph\n"
          ],
          "name": "stdout"
        },
        {
          "output_type": "stream",
          "text": [
            "W0327 20:20:57.269627 140589220386688 deprecation.py:323] From /usr/local/lib/python3.6/dist-packages/tensorflow/python/framework/graph_util_impl.py:245: extract_sub_graph (from tensorflow.python.framework.graph_util_impl) is deprecated and will be removed in a future version.\n",
            "Instructions for updating:\n",
            "Use tf.compat.v1.graph_util.extract_sub_graph\n"
          ],
          "name": "stderr"
        },
        {
          "output_type": "stream",
          "text": [
            "INFO:tensorflow:Froze 530 variables.\n"
          ],
          "name": "stdout"
        },
        {
          "output_type": "stream",
          "text": [
            "I0327 20:20:57.830299 140589220386688 graph_util_impl.py:268] Froze 530 variables.\n"
          ],
          "name": "stderr"
        },
        {
          "output_type": "stream",
          "text": [
            "INFO:tensorflow:Converted 530 variables to const ops.\n"
          ],
          "name": "stdout"
        },
        {
          "output_type": "stream",
          "text": [
            "I0327 20:20:58.193033 140589220386688 graph_util_impl.py:301] Converted 530 variables to const ops.\n"
          ],
          "name": "stderr"
        },
        {
          "output_type": "stream",
          "text": [
            "WARNING:tensorflow:From /content/models/research/object_detection/exporter.py:267: build_tensor_info (from tensorflow.python.saved_model.utils_impl) is deprecated and will be removed in a future version.\n",
            "Instructions for updating:\n",
            "This function will only be available through the v1 compatibility library as tf.compat.v1.saved_model.utils.build_tensor_info or tf.compat.v1.saved_model.build_tensor_info.\n"
          ],
          "name": "stdout"
        },
        {
          "output_type": "stream",
          "text": [
            "W0327 20:21:09.180352 140589220386688 deprecation.py:323] From /content/models/research/object_detection/exporter.py:267: build_tensor_info (from tensorflow.python.saved_model.utils_impl) is deprecated and will be removed in a future version.\n",
            "Instructions for updating:\n",
            "This function will only be available through the v1 compatibility library as tf.compat.v1.saved_model.utils.build_tensor_info or tf.compat.v1.saved_model.build_tensor_info.\n"
          ],
          "name": "stderr"
        },
        {
          "output_type": "stream",
          "text": [
            "INFO:tensorflow:No assets to save.\n"
          ],
          "name": "stdout"
        },
        {
          "output_type": "stream",
          "text": [
            "I0327 20:21:09.184261 140589220386688 builder_impl.py:629] No assets to save.\n"
          ],
          "name": "stderr"
        },
        {
          "output_type": "stream",
          "text": [
            "INFO:tensorflow:No assets to write.\n"
          ],
          "name": "stdout"
        },
        {
          "output_type": "stream",
          "text": [
            "I0327 20:21:09.187453 140589220386688 builder_impl.py:449] No assets to write.\n"
          ],
          "name": "stderr"
        },
        {
          "output_type": "stream",
          "text": [
            "INFO:tensorflow:SavedModel written to: gs://id-norm/exported_graphs/saved_model/saved_model.pb\n"
          ],
          "name": "stdout"
        },
        {
          "output_type": "stream",
          "text": [
            "I0327 20:21:19.653808 140589220386688 builder_impl.py:414] SavedModel written to: gs://id-norm/exported_graphs/saved_model/saved_model.pb\n"
          ],
          "name": "stderr"
        },
        {
          "output_type": "stream",
          "text": [
            "INFO:tensorflow:Writing pipeline config file to gs://id-norm/exported_graphs/pipeline.config\n"
          ],
          "name": "stdout"
        },
        {
          "output_type": "stream",
          "text": [
            "I0327 20:21:20.228893 140589220386688 config_util.py:184] Writing pipeline config file to gs://id-norm/exported_graphs/pipeline.config\n"
          ],
          "name": "stderr"
        }
      ]
    },
    {
      "metadata": {
        "id": "W62WGc9Du_Ek",
        "colab_type": "code",
        "colab": {}
      },
      "cell_type": "code",
      "source": [
        ""
      ],
      "execution_count": 0,
      "outputs": []
    }
  ]
}