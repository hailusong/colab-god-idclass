{
  "nbformat": 4,
  "nbformat_minor": 0,
  "metadata": {
    "colab": {
      "name": "god-idclass.ipynb",
      "version": "0.3.2",
      "provenance": [],
      "collapsed_sections": [],
      "include_colab_link": true
    },
    "kernelspec": {
      "name": "python3",
      "display_name": "Python 3"
    },
    "accelerator": "GPU"
  },
  "cells": [
    {
      "cell_type": "markdown",
      "metadata": {
        "id": "view-in-github",
        "colab_type": "text"
      },
      "source": [
        "<a href=\"https://colab.research.google.com/github/hailusong/colab-god-idclass/blob/master/god_idclass_mltrain.ipynb\" target=\"_parent\"><img src=\"https://colab.research.google.com/assets/colab-badge.svg\" alt=\"Open In Colab\"/></a>"
      ]
    },
    {
      "metadata": {
        "id": "TjlYaLbjqZ8T",
        "colab_type": "text"
      },
      "cell_type": "markdown",
      "source": [
        "# Training: Custom Train Google Object Detection to Detect ID BBox"
      ]
    },
    {
      "metadata": {
        "id": "2R9EiJRx7bMQ",
        "colab_type": "text"
      },
      "cell_type": "markdown",
      "source": [
        "**FIRST OF ALL: CHOOSE RUNTIME ENVIRONMENT TYPE TO BE GPU**<br>\n",
        "Environment variables setup.<br>\n",
        "**Tensorflow runtime version list** can be found at [here](https://cloud.google.com/ml-engine/docs/tensorflow/runtime-version-list)"
      ]
    },
    {
      "metadata": {
        "id": "P6Xb78JiIUaY",
        "colab_type": "code",
        "colab": {}
      },
      "cell_type": "code",
      "source": [
        "DEFAULT_HOME='/content'\n",
        "TF_RT_VERSION='1.13'\n",
        "PYTHON_VERSION='3.5'\n",
        "\n",
        "YOUR_GCS_BUCKET='id-norm'\n",
        "YOUR_PROJECT='orbital-purpose-130316'"
      ],
      "execution_count": 0,
      "outputs": []
    },
    {
      "metadata": {
        "id": "0bAXZIZvDcv8",
        "colab_type": "text"
      },
      "cell_type": "markdown",
      "source": [
        "## Session and Environment Verification (Destination - Local)"
      ]
    },
    {
      "metadata": {
        "id": "ogk6pbZ_DAYc",
        "colab_type": "text"
      },
      "cell_type": "markdown",
      "source": [
        "Establish security session with Google Cloud"
      ]
    },
    {
      "metadata": {
        "id": "JuDI1KX7rRpq",
        "colab_type": "code",
        "colab": {}
      },
      "cell_type": "code",
      "source": [
        "from google.colab import auth\n",
        "auth.authenticate_user()\n"
      ],
      "execution_count": 0,
      "outputs": []
    },
    {
      "metadata": {
        "id": "L2u7WXAwd8Si",
        "colab_type": "text"
      },
      "cell_type": "markdown",
      "source": [
        "################# RE-RUN ABOVE CELLS IF NEED TO RESTART RUNTIME #################"
      ]
    },
    {
      "metadata": {
        "id": "1mU8k4b2DZ8C",
        "colab_type": "text"
      },
      "cell_type": "markdown",
      "source": [
        "Verify Versions: TF, Python, IPython and prompt_toolkit (these two need to have compatible version), and protoc"
      ]
    },
    {
      "metadata": {
        "id": "p8pW_0h7r4L5",
        "colab_type": "code",
        "outputId": "6178d466-8311-4269-eba8-662f270ccf4e",
        "colab": {
          "base_uri": "https://localhost:8080/",
          "height": 34
        }
      },
      "cell_type": "code",
      "source": [
        "import tensorflow as tf\n",
        "print(tf.__version__)\n",
        "assert(tf.__version__.startswith(TF_RT_VERSION + '.')), f'tf.__version__ {tf.__version__} not matching with specified TF runtime version env variable {TF_RT_VERSION}'"
      ],
      "execution_count": 0,
      "outputs": [
        {
          "output_type": "stream",
          "text": [
            "1.13.1\n"
          ],
          "name": "stdout"
        }
      ]
    },
    {
      "metadata": {
        "id": "d-WRNGIpFfo-",
        "colab_type": "code",
        "outputId": "eb0725c6-feea-40a5-a09a-e9e6ed1e3ebe",
        "colab": {
          "base_uri": "https://localhost:8080/",
          "height": 238
        }
      },
      "cell_type": "code",
      "source": [
        "!python -V\n",
        "!ipython --version\n",
        "!pip show prompt_toolkit\n",
        "!protoc --version"
      ],
      "execution_count": 0,
      "outputs": [
        {
          "output_type": "stream",
          "text": [
            "Python 3.6.7\n",
            "5.5.0\n",
            "Name: prompt-toolkit\n",
            "Version: 1.0.15\n",
            "Summary: Library for building powerful interactive command lines in Python\n",
            "Home-page: https://github.com/jonathanslenders/python-prompt-toolkit\n",
            "Author: Jonathan Slenders\n",
            "Author-email: UNKNOWN\n",
            "License: UNKNOWN\n",
            "Location: /usr/local/lib/python3.6/dist-packages\n",
            "Requires: six, wcwidth\n",
            "Required-by: jupyter-console, ipython\n",
            "libprotoc 3.0.0\n"
          ],
          "name": "stdout"
        }
      ]
    },
    {
      "metadata": {
        "id": "omvtVm1tEXTk",
        "colab_type": "text"
      },
      "cell_type": "markdown",
      "source": [
        "## Install Google Object Detection API in Colab\n",
        "Reference is https://colab.research.google.com/drive/1kHEQK2uk35xXZ_bzMUgLkoysJIWwznYr\n"
      ]
    },
    {
      "metadata": {
        "id": "V2S37bciJ0rW",
        "colab_type": "text"
      },
      "cell_type": "markdown",
      "source": [
        "### Downgrade prompt-toolkit to 1.0.15 (Destination - Local)\n",
        "Run this **ONLY** if the Installation not Working"
      ]
    },
    {
      "metadata": {
        "id": "x0dlIgSUJ19q",
        "colab_type": "code",
        "colab": {}
      },
      "cell_type": "code",
      "source": [
        "# !pip install 'prompt-toolkit==1.0.15'"
      ],
      "execution_count": 0,
      "outputs": []
    },
    {
      "metadata": {
        "id": "wsjTyacRJ-ji",
        "colab_type": "text"
      },
      "cell_type": "markdown",
      "source": [
        "### Google Object Detection API Installation (Destination - Local)"
      ]
    },
    {
      "metadata": {
        "id": "V8sD3HbnEhq1",
        "colab_type": "code",
        "outputId": "5c5dbace-d2e5-480f-f32a-ecabfecb9e98",
        "colab": {
          "base_uri": "https://localhost:8080/",
          "height": 51
        }
      },
      "cell_type": "code",
      "source": [
        "!apt-get install -y -qq protobuf-compiler python-pil python-lxml\n",
        "![ ! -e {DEFAULT_HOME}/models ] && git clone --depth=1 --quiet https://github.com/tensorflow/models.git {DEFAULT_HOME}/models\n",
        "!ls {DEFAULT_HOME}/models"
      ],
      "execution_count": 0,
      "outputs": [
        {
          "output_type": "stream",
          "text": [
            "AUTHORS     CONTRIBUTING.md    LICENSE\t README.md  samples    WORKSPACE\n",
            "CODEOWNERS  ISSUE_TEMPLATE.md  official  research   tutorials\n"
          ],
          "name": "stdout"
        }
      ]
    },
    {
      "metadata": {
        "id": "Lrcxm-rnEpEJ",
        "colab_type": "code",
        "outputId": "3a288834-93d3-4270-dad2-24d5ac2860a0",
        "colab": {
          "base_uri": "https://localhost:8080/",
          "height": 34
        }
      },
      "cell_type": "code",
      "source": [
        "import os\n",
        "os.chdir(f'{DEFAULT_HOME}/models/research')\n",
        "!pwd"
      ],
      "execution_count": 0,
      "outputs": [
        {
          "output_type": "stream",
          "text": [
            "/content/models/research\n"
          ],
          "name": "stdout"
        }
      ]
    },
    {
      "metadata": {
        "id": "z8_fKK8SGX4k",
        "colab_type": "text"
      },
      "cell_type": "markdown",
      "source": [
        "*From Wikipedia ...*: \n",
        "\n",
        "**protocol buffers** are a language-neutral, platform-neutral extensible mechanism for serializing structured data – think XML, but smaller, faster, and simpler. \n",
        "\n",
        "You define how you want your data to be structured once, then you can **use special generated source code to easily write and read your structured data to and from a variety of data streams and using a variety of languages**.\n",
        "\n",
        "Remember **.proto defines structured data** and **protoc generates the source code** the serailize/de-serialize."
      ]
    },
    {
      "metadata": {
        "id": "k77QnbWPEuUU",
        "colab_type": "code",
        "outputId": "7693e47d-a8f8-4d17-d8d9-2a26176b60eb",
        "colab": {
          "base_uri": "https://localhost:8080/",
          "height": 51
        }
      },
      "cell_type": "code",
      "source": [
        "!protoc object_detection/protos/*.proto --python_out=.\n",
        "# !ls object_detection/protos/*.proto\n",
        "# !cat object_detection/protos/anchor_generator.proto\n",
        "!ls {DEFAULT_HOME}/models/research/object_detection/builders/anchor*"
      ],
      "execution_count": 0,
      "outputs": [
        {
          "output_type": "stream",
          "text": [
            "/content/models/research/object_detection/builders/anchor_generator_builder.py\n",
            "/content/models/research/object_detection/builders/anchor_generator_builder_test.py\n"
          ],
          "name": "stdout"
        }
      ]
    },
    {
      "metadata": {
        "id": "muV6amLl4Bya",
        "colab_type": "text"
      },
      "cell_type": "markdown",
      "source": [
        "#### Add Google Object Detection API into System Path"
      ]
    },
    {
      "metadata": {
        "id": "RS2Aj9YEEv5_",
        "colab_type": "code",
        "colab": {}
      },
      "cell_type": "code",
      "source": [
        "import sys\n",
        "sys.path.append(f'{DEFAULT_HOME}/models/research')\n",
        "sys.path.append(f'{DEFAULT_HOME}/models/research/slim')"
      ],
      "execution_count": 0,
      "outputs": []
    },
    {
      "metadata": {
        "id": "LbDcBTuIXwBZ",
        "colab_type": "text"
      },
      "cell_type": "markdown",
      "source": [
        "Note that ! calls out to a shell (in a **NEW** process), while % affects the **SAME** process associated with the notebook.\n",
        "\n",
        "Since we append pathes to sys.path, we **HAVE TO** use % command to run the Python\n",
        "\n",
        "Also it is **IMPORTANT** to have **%matplotlib inline** otherwise %run model_builder_test.py will **cause function attribute error** when accessing matplotlib.pyplot attributes from **iPython's run_line_magic** "
      ]
    },
    {
      "metadata": {
        "id": "KrYcIPx7XPHG",
        "colab_type": "code",
        "colab": {}
      },
      "cell_type": "code",
      "source": [
        "# !find . -name 'inception*' -print\n",
        "%matplotlib inline"
      ],
      "execution_count": 0,
      "outputs": []
    },
    {
      "metadata": {
        "id": "ccpkEmORExv-",
        "colab_type": "code",
        "outputId": "838284d1-7000-4b30-936b-31c8cb5a9788",
        "colab": {
          "base_uri": "https://localhost:8080/",
          "height": 102
        }
      },
      "cell_type": "code",
      "source": [
        "# If see the error 'function' object has no attribute 'called', just run the %matplotlib cell and this cell AGAIN \n",
        "%run object_detection/builders/model_builder_test.py\n",
        "\n",
        "import os\n",
        "os.chdir(f'{DEFAULT_HOME}')"
      ],
      "execution_count": 0,
      "outputs": [
        {
          "output_type": "stream",
          "text": [
            "............s...\n",
            "----------------------------------------------------------------------\n",
            "Ran 16 tests in 0.154s\n",
            "\n",
            "OK (skipped=1)\n"
          ],
          "name": "stderr"
        }
      ]
    },
    {
      "metadata": {
        "id": "aCJUcq6XbZo5",
        "colab_type": "text"
      },
      "cell_type": "markdown",
      "source": [
        "## Git Sync for any Change in colab-god-idclass "
      ]
    },
    {
      "metadata": {
        "id": "IiqAkpnYbbBm",
        "colab_type": "code",
        "outputId": "f49356b9-4abc-4223-e0ea-aec0b1e5fcac",
        "colab": {
          "base_uri": "https://localhost:8080/",
          "height": 119
        }
      },
      "cell_type": "code",
      "source": [
        "![ -e {DEFAULT_HOME}/colab-god-idclass ] && git -C {DEFAULT_HOME}/colab-god-idclass pull\n",
        "![ ! -e {DEFAULT_HOME}/colab-god-idclass ] && git clone --depth=1 https://github.com/hailusong/colab-god-idclass.git {DEFAULT_HOME}/colab-god-idclass"
      ],
      "execution_count": 0,
      "outputs": [
        {
          "output_type": "stream",
          "text": [
            "Cloning into '/content/colab-god-idclass'...\n",
            "remote: Enumerating objects: 12, done.\u001b[K\n",
            "remote: Counting objects:   8% (1/12)   \u001b[K\rremote: Counting objects:  16% (2/12)   \u001b[K\rremote: Counting objects:  25% (3/12)   \u001b[K\rremote: Counting objects:  33% (4/12)   \u001b[K\rremote: Counting objects:  41% (5/12)   \u001b[K\rremote: Counting objects:  50% (6/12)   \u001b[K\rremote: Counting objects:  58% (7/12)   \u001b[K\rremote: Counting objects:  66% (8/12)   \u001b[K\rremote: Counting objects:  75% (9/12)   \u001b[K\rremote: Counting objects:  83% (10/12)   \u001b[K\rremote: Counting objects:  91% (11/12)   \u001b[K\rremote: Counting objects: 100% (12/12)   \u001b[K\rremote: Counting objects: 100% (12/12), done.\u001b[K\n",
            "remote: Compressing objects:   9% (1/11)   \u001b[K\rremote: Compressing objects:  18% (2/11)   \u001b[K\rremote: Compressing objects:  27% (3/11)   \u001b[K\rremote: Compressing objects:  36% (4/11)   \u001b[K\rremote: Compressing objects:  45% (5/11)   \u001b[K\rremote: Compressing objects:  54% (6/11)   \u001b[K\rremote: Compressing objects:  63% (7/11)   \u001b[K\rremote: Compressing objects:  72% (8/11)   \u001b[K\rremote: Compressing objects:  81% (9/11)   \u001b[K\rremote: Compressing objects:  90% (10/11)   \u001b[K\rremote: Compressing objects: 100% (11/11)   \u001b[K\rremote: Compressing objects: 100% (11/11), done.\u001b[K\n",
            "remote: Total 12 (delta 0), reused 6 (delta 0), pack-reused 0\u001b[K\n",
            "Unpacking objects:   8% (1/12)   \rUnpacking objects:  16% (2/12)   \rUnpacking objects:  25% (3/12)   \rUnpacking objects:  33% (4/12)   \rUnpacking objects:  41% (5/12)   \rUnpacking objects:  50% (6/12)   \rUnpacking objects:  58% (7/12)   \rUnpacking objects:  66% (8/12)   \rUnpacking objects:  75% (9/12)   \rUnpacking objects:  83% (10/12)   \rUnpacking objects:  91% (11/12)   \rUnpacking objects: 100% (12/12)   \rUnpacking objects: 100% (12/12), done.\n"
          ],
          "name": "stdout"
        }
      ]
    },
    {
      "metadata": {
        "id": "sItSbiqRmyin",
        "colab_type": "text"
      },
      "cell_type": "markdown",
      "source": [
        "### Checking Your Google Cloud Storage Bucket"
      ]
    },
    {
      "metadata": {
        "id": "LIekVw8Nmup6",
        "colab_type": "code",
        "outputId": "3413294a-8ad2-41bc-a5d2-4643d27f5edd",
        "colab": {
          "base_uri": "https://localhost:8080/",
          "height": 153
        }
      },
      "cell_type": "code",
      "source": [
        "!gsutil ls gs://{YOUR_GCS_BUCKET}/data\n",
        "!gsutil ls gs://{YOUR_GCS_BUCKET}/generated"
      ],
      "execution_count": 0,
      "outputs": [
        {
          "output_type": "stream",
          "text": [
            "gs://id-norm/data/faster_rcnn_resnet101_processed.config\n",
            "gs://id-norm/data/label_map.pbtxt\n",
            "gs://id-norm/data/model.ckpt.data-00000-of-00001\n",
            "gs://id-norm/data/model.ckpt.index\n",
            "gs://id-norm/data/model.ckpt.meta\n",
            "gs://id-norm/data/test.record\n",
            "gs://id-norm/data/train.record\n",
            "CommandException: One or more URLs matched no objects.\n"
          ],
          "name": "stdout"
        }
      ]
    },
    {
      "metadata": {
        "id": "GmmS7dXejke0",
        "colab_type": "text"
      },
      "cell_type": "markdown",
      "source": [
        "## Start the Training and Evaluation Jobs on Google Cloud ML Engine"
      ]
    },
    {
      "metadata": {
        "id": "k9Jj2W0Ak5rC",
        "colab_type": "text"
      },
      "cell_type": "markdown",
      "source": [
        "### Option 1: Start the Training Job on Google Cloud ML (Destination - Cloud ML)"
      ]
    },
    {
      "metadata": {
        "id": "oFy4tt53j4bZ",
        "colab_type": "text"
      },
      "cell_type": "markdown",
      "source": [
        "#### Package the Tensorflow Object Detection code (Destination - Local but to be submitted as package to Cloud ML)\n",
        "Before you can run on GCP, you must first **package the TensorFlow Object Detection API and TF Slim**."
      ]
    },
    {
      "metadata": {
        "id": "KO_5PPACjI0s",
        "colab_type": "code",
        "colab": {}
      },
      "cell_type": "code",
      "source": [
        "import os\n",
        "os.chdir(f'{DEFAULT_HOME}/models/research')\n",
        "\n",
        "# From tensorflow/models/research/\n",
        "!bash object_detection/dataset_tools/create_pycocotools_package.sh /tmp/pycocotools\n",
        "!python setup.py sdist\n",
        "!(cd slim && python setup.py sdist)"
      ],
      "execution_count": 0,
      "outputs": []
    },
    {
      "metadata": {
        "id": "FBWz59ockMQi",
        "colab_type": "text"
      },
      "cell_type": "markdown",
      "source": [
        "Three python packages will be created:\n",
        "* dist/object_detection-0.1.tar.gz\n",
        "* slim/dist/slim-0.1.tar.gz\n",
        "* /tmp/pycocotools/pycocotools-2.0.tar.gz"
      ]
    },
    {
      "metadata": {
        "id": "m23IkmNbjzYb",
        "colab_type": "code",
        "outputId": "edf451f6-bfb1-4443-9dc0-950e2540878a",
        "colab": {
          "base_uri": "https://localhost:8080/",
          "height": 68
        }
      },
      "cell_type": "code",
      "source": [
        "!ls -l dist/object_detection-0.1.tar.gz\n",
        "!ls -l slim/dist/slim-0.1.tar.gz\n",
        "!ls -l /tmp/pycocotools/pycocotools-2.0.tar.gz"
      ],
      "execution_count": 0,
      "outputs": [
        {
          "output_type": "stream",
          "text": [
            "-rw-r--r-- 1 root root 439299460 Mar 23 22:11 dist/object_detection-0.1.tar.gz\n",
            "-rw-r--r-- 1 root root 973963 Mar 23 22:11 slim/dist/slim-0.1.tar.gz\n",
            "-rw-r--r-- 1 root root 1376450 Mar 23 22:10 /tmp/pycocotools/pycocotools-2.0.tar.gz\n"
          ],
          "name": "stdout"
        }
      ]
    },
    {
      "metadata": {
        "id": "EHuJCfKxoLn1",
        "colab_type": "text"
      },
      "cell_type": "markdown",
      "source": [
        "If you experience 'Permission denied on resource project ...' issue, make sure Cloud ML engine API has been enabled for the project. Use this [link](https://console.cloud.google.com/flows/enableapi?apiid=ml.googleapis.com,compute_component) to check and enable if not yet done."
      ]
    },
    {
      "metadata": {
        "id": "aUo0VrXBkYp9",
        "colab_type": "code",
        "outputId": "7f656465-d54e-4371-d5d4-fdf9bafe9063",
        "colab": {
          "base_uri": "https://localhost:8080/",
          "height": 34
        }
      },
      "cell_type": "code",
      "source": [
        "# From tensorflow/models/research/\n",
        "!gcloud config set project {YOUR_PROJECT}"
      ],
      "execution_count": 0,
      "outputs": [
        {
          "output_type": "stream",
          "text": [
            "Updated property [core/project].\n"
          ],
          "name": "stdout"
        }
      ]
    },
    {
      "metadata": {
        "id": "YGBTfl7a3p6_",
        "colab_type": "code",
        "outputId": "c9ca845c-2a33-4616-f616-e43a3bd51d4a",
        "colab": {
          "base_uri": "https://localhost:8080/",
          "height": 204
        }
      },
      "cell_type": "code",
      "source": [
        "!cat object_detection/samples/cloud/cloud.yml"
      ],
      "execution_count": 0,
      "outputs": [
        {
          "output_type": "stream",
          "text": [
            "trainingInput:\n",
            "  runtimeVersion: \"1.12\"\n",
            "  scaleTier: CUSTOM\n",
            "  masterType: standard_gpu\n",
            "  workerCount: 5\n",
            "  workerType: standard_gpu\n",
            "  parameterServerCount: 3\n",
            "  parameterServerType: standard\n",
            "\n",
            "\n",
            "\n"
          ],
          "name": "stdout"
        }
      ]
    },
    {
      "metadata": {
        "id": "B-jTSuP20Vy_",
        "colab_type": "text"
      },
      "cell_type": "markdown",
      "source": [
        " #### Start the Training Job on Google Cloud ML (Destination - Cloud ML)"
      ]
    },
    {
      "metadata": {
        "id": "atuWjEwPv8eP",
        "colab_type": "code",
        "outputId": "81e9c02d-efde-475d-f60e-79634ed4ca0d",
        "colab": {
          "base_uri": "https://localhost:8080/",
          "height": 187
        }
      },
      "cell_type": "code",
      "source": [
        "!gcloud ml-engine jobs submit training `whoami`_object_detection_ids_`date +%m_%d_%Y_%H_%M_%S` \\\n",
        "    --runtime-version {TF_RT_VERSION} \\\n",
        "    --job-dir=gs://{YOUR_GCS_BUCKET}/model_dir \\\n",
        "    --packages dist/object_detection-0.1.tar.gz,slim/dist/slim-0.1.tar.gz,/tmp/pycocotools/pycocotools-2.0.tar.gz \\\n",
        "    --module-name object_detection.model_main \\\n",
        "    --region us-central1 \\\n",
        "    --config object_detection/samples/cloud/cloud.yml \\\n",
        "    --python-version {PYTHON_VERSION} \\\n",
        "    -- \\\n",
        "    --model_dir=gs://{YOUR_GCS_BUCKET}/model_dir \\\n",
        "    --pipeline_config_path=gs://{YOUR_GCS_BUCKET}/data/pipeline_faster_rcnn_resnet101_processed.config"
      ],
      "execution_count": 0,
      "outputs": [
        {
          "output_type": "stream",
          "text": [
            "Job [root_object_detection_ids_03_23_2019_22_25_20] submitted successfully.\n",
            "Your job is still active. You may view the status of your job with the command\n",
            "\n",
            "  $ gcloud ml-engine jobs describe root_object_detection_ids_03_23_2019_22_25_20\n",
            "\n",
            "or continue streaming the logs with the command\n",
            "\n",
            "  $ gcloud ml-engine jobs stream-logs root_object_detection_ids_03_23_2019_22_25_20\n",
            "jobId: root_object_detection_ids_03_23_2019_22_25_20\n",
            "state: QUEUED\n"
          ],
          "name": "stdout"
        }
      ]
    },
    {
      "metadata": {
        "id": "zzYqu-zRrx7s",
        "colab_type": "text"
      },
      "cell_type": "markdown",
      "source": [
        "### Option 1 - Monitor the Cloud ML Training Job in Tensorboard\n",
        "To monitor in the ML Engine dashboard, click on [this link](https://console.cloud.google.com/mlengine/jobs).<br>"
      ]
    },
    {
      "metadata": {
        "id": "wE6TqxD-1TUR",
        "colab_type": "code",
        "colab": {}
      },
      "cell_type": "code",
      "source": [
        ""
      ],
      "execution_count": 0,
      "outputs": []
    }
  ]
}
