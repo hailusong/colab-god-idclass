{
  "nbformat": 4,
  "nbformat_minor": 0,
  "metadata": {
    "colab": {
      "name": "Colab Train on Key Points using Dlib",
      "version": "0.3.2",
      "provenance": [],
      "collapsed_sections": [],
      "include_colab_link": true
    },
    "kernelspec": {
      "name": "python3",
      "display_name": "Python 3"
    },
    "accelerator": "GPU"
  },
  "cells": [
    {
      "cell_type": "markdown",
      "metadata": {
        "id": "view-in-github",
        "colab_type": "text"
      },
      "source": [
        "<a href=\"https://colab.research.google.com/github/hailusong/colab-god-idclass/blob/master/god_idclass_colabtrain_dlib.ipynb\" target=\"_parent\"><img src=\"https://colab.research.google.com/assets/colab-badge.svg\" alt=\"Open In Colab\"/></a>"
      ]
    },
    {
      "metadata": {
        "id": "TjlYaLbjqZ8T",
        "colab_type": "text"
      },
      "cell_type": "markdown",
      "source": [
        "# Training: Traing with Dlib to Detect Key Points of ID"
      ]
    },
    {
      "metadata": {
        "id": "2R9EiJRx7bMQ",
        "colab_type": "text"
      },
      "cell_type": "markdown",
      "source": [
        "**FIRST OF ALL: CHOOSE RUNTIME ENVIRONMENT TYPE TO BE GPU**<br>\n",
        "Environment variables setup.<br>\n",
        "**Tensorflow runtime version list** can be found at [here](https://cloud.google.com/ml-engine/docs/tensorflow/runtime-version-list)"
      ]
    },
    {
      "metadata": {
        "id": "P6Xb78JiIUaY",
        "colab_type": "code",
        "colab": {}
      },
      "cell_type": "code",
      "source": [
        "DEFAULT_HOME='/content'\n",
        "TF_RT_VERSION='1.13'\n",
        "PYTHON_VERSION='3.5'\n",
        "\n",
        "YOUR_GCS_BUCKET='id-norm'\n",
        "YOUR_PROJECT='orbital-purpose-130316'"
      ],
      "execution_count": 0,
      "outputs": []
    },
    {
      "metadata": {
        "id": "WqeqeLJGY2yd",
        "colab_type": "text"
      },
      "cell_type": "markdown",
      "source": [
        "Dlib and dependents"
      ]
    },
    {
      "metadata": {
        "id": "p5hdLuflY2MR",
        "colab_type": "code",
        "colab": {}
      },
      "cell_type": "code",
      "source": [
        "import cv2\n",
        "import dlib"
      ],
      "execution_count": 0,
      "outputs": []
    },
    {
      "metadata": {
        "id": "0bAXZIZvDcv8",
        "colab_type": "text"
      },
      "cell_type": "markdown",
      "source": [
        "## Session and Environment Verification (Destination - Local)"
      ]
    },
    {
      "metadata": {
        "id": "ogk6pbZ_DAYc",
        "colab_type": "text"
      },
      "cell_type": "markdown",
      "source": [
        "Establish security session with Google Cloud"
      ]
    },
    {
      "metadata": {
        "id": "JuDI1KX7rRpq",
        "colab_type": "code",
        "colab": {}
      },
      "cell_type": "code",
      "source": [
        "from google.colab import auth\n",
        "auth.authenticate_user()\n"
      ],
      "execution_count": 0,
      "outputs": []
    },
    {
      "metadata": {
        "id": "L2u7WXAwd8Si",
        "colab_type": "text"
      },
      "cell_type": "markdown",
      "source": [
        "################# RE-RUN ABOVE CELLS IF NEED TO RESTART RUNTIME #################"
      ]
    },
    {
      "metadata": {
        "id": "1mU8k4b2DZ8C",
        "colab_type": "text"
      },
      "cell_type": "markdown",
      "source": [
        "Verify Versions: TF, Python, IPython and prompt_toolkit (these two need to have compatible version), and protoc"
      ]
    },
    {
      "metadata": {
        "id": "p8pW_0h7r4L5",
        "colab_type": "code",
        "outputId": "0d91a0cf-5497-4ccb-83ec-6d6ec7817294",
        "colab": {
          "base_uri": "https://localhost:8080/",
          "height": 34
        }
      },
      "cell_type": "code",
      "source": [
        "import tensorflow as tf\n",
        "print(tf.__version__)\n",
        "assert(tf.__version__.startswith(TF_RT_VERSION + '.')), f'tf.__version__ {tf.__version__} not matching with specified TF runtime version env variable {TF_RT_VERSION}'"
      ],
      "execution_count": 0,
      "outputs": [
        {
          "output_type": "stream",
          "text": [
            "1.13.1\n"
          ],
          "name": "stdout"
        }
      ]
    },
    {
      "metadata": {
        "id": "d-WRNGIpFfo-",
        "colab_type": "code",
        "outputId": "36074cd8-5d06-4522-cc20-d96d8ab1b108",
        "colab": {
          "base_uri": "https://localhost:8080/",
          "height": 238
        }
      },
      "cell_type": "code",
      "source": [
        "!python -V\n",
        "!ipython --version\n",
        "!pip show prompt_toolkit\n",
        "!protoc --version"
      ],
      "execution_count": 0,
      "outputs": [
        {
          "output_type": "stream",
          "text": [
            "Python 3.6.7\n",
            "5.5.0\n",
            "Name: prompt-toolkit\n",
            "Version: 1.0.15\n",
            "Summary: Library for building powerful interactive command lines in Python\n",
            "Home-page: https://github.com/jonathanslenders/python-prompt-toolkit\n",
            "Author: Jonathan Slenders\n",
            "Author-email: UNKNOWN\n",
            "License: UNKNOWN\n",
            "Location: /usr/local/lib/python3.6/dist-packages\n",
            "Requires: wcwidth, six\n",
            "Required-by: jupyter-console, ipython\n",
            "libprotoc 3.0.0\n"
          ],
          "name": "stdout"
        }
      ]
    },
    {
      "metadata": {
        "id": "aCJUcq6XbZo5",
        "colab_type": "text"
      },
      "cell_type": "markdown",
      "source": [
        "## Git Sync for any Change in colab-god-idclass "
      ]
    },
    {
      "metadata": {
        "id": "IiqAkpnYbbBm",
        "colab_type": "code",
        "outputId": "4b65737a-fd12-4e4b-990a-342eabc0cc81",
        "colab": {
          "base_uri": "https://localhost:8080/",
          "height": 119
        }
      },
      "cell_type": "code",
      "source": [
        "![ -e {DEFAULT_HOME}/colab-god-idclass ] && git -C {DEFAULT_HOME}/colab-god-idclass pull\n",
        "![ ! -e {DEFAULT_HOME}/colab-god-idclass ] && git clone --depth=1 https://github.com/hailusong/colab-god-idclass.git {DEFAULT_HOME}/colab-god-idclass"
      ],
      "execution_count": 0,
      "outputs": [
        {
          "output_type": "stream",
          "text": [
            "Cloning into '/content/colab-god-idclass'...\n",
            "remote: Enumerating objects: 26, done.\u001b[K\n",
            "remote: Counting objects: 100% (26/26), done.\u001b[K\n",
            "remote: Compressing objects: 100% (25/25), done.\u001b[K\n",
            "remote: Total 26 (delta 8), reused 8 (delta 0), pack-reused 0\u001b[K\n",
            "Unpacking objects: 100% (26/26), done.\n"
          ],
          "name": "stdout"
        }
      ]
    },
    {
      "metadata": {
        "id": "1iFeRMPvBigV",
        "colab_type": "text"
      },
      "cell_type": "markdown",
      "source": [
        "Push the latest pipeline config file to the GCS"
      ]
    },
    {
      "metadata": {
        "id": "S0a0gR33BW8H",
        "colab_type": "code",
        "outputId": "200f176b-0faf-4a3a-9663-2dff7f6a4d08",
        "colab": {
          "base_uri": "https://localhost:8080/",
          "height": 85
        }
      },
      "cell_type": "code",
      "source": [
        "!ls -al {DEFAULT_HOME}/colab-god-idclass/configs/{PIPELINE_CONFIG_NAME}.config\n",
        "!sed 's/..YOUR_GCS_BUCKET./{YOUR_GCS_BUCKET}/g' < {DEFAULT_HOME}/colab-god-idclass/configs/{PIPELINE_CONFIG_NAME}.config > {DEFAULT_HOME}/colab-god-idclass/configs/{PIPELINE_CONFIG_NAME}_processed.config\n",
        "!gsutil cp {DEFAULT_HOME}/colab-god-idclass/configs/{PIPELINE_CONFIG_NAME}_processed.config \\\n",
        "           gs://{YOUR_GCS_BUCKET}/data_{MODEL_NAME}"
      ],
      "execution_count": 0,
      "outputs": [
        {
          "output_type": "stream",
          "text": [
            "-rw-r--r-- 1 root root 5339 Apr  9 16:29 /content/colab-god-idclass/configs/pipeline_ssd_mobilenet_v2.config\n",
            "Copying file:///content/colab-god-idclass/configs/pipeline_ssd_mobilenet_v2_processed.config [Content-Type=application/octet-stream]...\n",
            "/ [1 files][  5.2 KiB/  5.2 KiB]                                                \n",
            "Operation completed over 1 objects/5.2 KiB.                                      \n"
          ],
          "name": "stdout"
        }
      ]
    },
    {
      "metadata": {
        "id": "sItSbiqRmyin",
        "colab_type": "text"
      },
      "cell_type": "markdown",
      "source": [
        "### Checking Your Google Cloud Storage Bucket"
      ]
    },
    {
      "metadata": {
        "id": "LIekVw8Nmup6",
        "colab_type": "code",
        "outputId": "397885b4-d9e0-42a9-9e39-d9bf2b3d54fe",
        "colab": {
          "base_uri": "https://localhost:8080/",
          "height": 510
        }
      },
      "cell_type": "code",
      "source": [
        "!gsutil ls gs://{YOUR_GCS_BUCKET}/data_{MODEL_NAME}\n",
        "!gsutil ls gs://{YOUR_GCS_BUCKET}/generated"
      ],
      "execution_count": 0,
      "outputs": [
        {
          "output_type": "stream",
          "text": [
            "gs://id-norm/data_ssd_mobilenet_v2/label_map.pbtxt\n",
            "gs://id-norm/data_ssd_mobilenet_v2/model.ckpt.data-00000-of-00001\n",
            "gs://id-norm/data_ssd_mobilenet_v2/model.ckpt.index\n",
            "gs://id-norm/data_ssd_mobilenet_v2/model.ckpt.meta\n",
            "gs://id-norm/data_ssd_mobilenet_v2/pipeline_ssd_mobilenet_v2_processed.config\n",
            "gs://id-norm/data_ssd_mobilenet_v2/test.record\n",
            "gs://id-norm/data_ssd_mobilenet_v2/train.record\n",
            "gs://id-norm/generated/bbox-train-non-id1.csv\n",
            "gs://id-norm/generated/bbox-train-non-id2.csv\n",
            "gs://id-norm/generated/bbox-train-non-id3.csv\n",
            "gs://id-norm/generated/bbox-train-on-dl.csv\n",
            "gs://id-norm/generated/bbox-train-on-hc.csv\n",
            "gs://id-norm/generated/bbox-valid-non-id1.csv\n",
            "gs://id-norm/generated/bbox-valid-non-id2.csv\n",
            "gs://id-norm/generated/bbox-valid-non-id3.csv\n",
            "gs://id-norm/generated/bbox-valid-on-dl.csv\n",
            "gs://id-norm/generated/bbox-valid-on-hc.csv\n",
            "gs://id-norm/generated/pnts-train-non-id1.csv\n",
            "gs://id-norm/generated/pnts-train-non-id2.csv\n",
            "gs://id-norm/generated/pnts-train-non-id3.csv\n",
            "gs://id-norm/generated/pnts-train-on-dl.csv\n",
            "gs://id-norm/generated/pnts-train-on-hc.csv\n",
            "gs://id-norm/generated/pnts-valid-non-id1.csv\n",
            "gs://id-norm/generated/pnts-valid-non-id2.csv\n",
            "gs://id-norm/generated/pnts-valid-non-id3.csv\n",
            "gs://id-norm/generated/pnts-valid-on-dl.csv\n",
            "gs://id-norm/generated/pnts-valid-on-hc.csv\n",
            "gs://id-norm/generated/Train/\n",
            "gs://id-norm/generated/Valid/\n"
          ],
          "name": "stdout"
        }
      ]
    },
    {
      "metadata": {
        "id": "bB21u8wjP68j",
        "colab_type": "text"
      },
      "cell_type": "markdown",
      "source": [
        "## Setup Training Data and Validation Data"
      ]
    },
    {
      "metadata": {
        "id": "z_AUIEV1QPkt",
        "colab_type": "code",
        "colab": {}
      },
      "cell_type": "code",
      "source": [
        "import os\n",
        "os.chdir(f'{DEFAULT_HOME}/colab-god-idclass')\n",
        "!pwd"
      ],
      "execution_count": 0,
      "outputs": []
    },
    {
      "metadata": {
        "id": "ow_KwtLeQCn3",
        "colab_type": "code",
        "colab": {}
      },
      "cell_type": "code",
      "source": [
        "%run dlib\\generate_dlibxml.py generate ..\\generated\\bbox-train-* ..\\generated\\dlib_train.xml"
      ],
      "execution_count": 0,
      "outputs": []
    },
    {
      "metadata": {
        "id": "qORiQCehQGrI",
        "colab_type": "code",
        "colab": {}
      },
      "cell_type": "code",
      "source": [
        "%run dlib\\generate_dlibxml.py generate ..\\generated\\bbox-valid-* ..\\generated\\dlib_test.xml"
      ],
      "execution_count": 0,
      "outputs": []
    },
    {
      "metadata": {
        "id": "GmmS7dXejke0",
        "colab_type": "text"
      },
      "cell_type": "markdown",
      "source": [
        "## Start the Training and Evaluation Jobs"
      ]
    },
    {
      "metadata": {
        "id": "JT8RGNNtYibu",
        "colab_type": "text"
      },
      "cell_type": "markdown",
      "source": [
        "### Option 2: Start the Training Job on CoLab"
      ]
    },
    {
      "metadata": {
        "id": "_zYbFeiXvTgn",
        "colab_type": "code",
        "colab": {}
      },
      "cell_type": "code",
      "source": [
        "def train_model(name, xml):\n",
        "  '''\n",
        "  requires: the model name, and the path to the xml annotations.\n",
        "  It trains and saves a new model according to the specified\n",
        "  training options and given annotations\n",
        "\n",
        "  example @ https://github.com/Luca96/dlib-minified-models/tree/master/face_landmarks:\n",
        "    options = dlib.shape_predictor_training_options()\n",
        "    options.tree_depth = 4\n",
        "    options.nu = 0.1\n",
        "    options.cascade_depth = 15\n",
        "    options.feature_pool_size = 800  # or even 1000\n",
        "    options.num_test_splits = 200  # 150-200 is enough\n",
        "  '''\n",
        "  # get the training options\n",
        "  options = dlib.shape_predictor_training_options()\n",
        "  options.tree_depth = 4\n",
        "  options.nu = 0.1\n",
        "  options.cascade_depth = 15\n",
        "  options.feature_pool_size = 400\n",
        "  options.num_test_splits = 50\n",
        "  options.oversampling_amount = 5\n",
        "  #\n",
        "  options.be_verbose = True  # tells what is happening during the training\n",
        "  options.num_threads = 4    # number of the threads used to train the model\n",
        "\n",
        "  # finally, train the model\n",
        "  dlib.train_shape_predictor(xml, name, options)\n",
        "\n",
        "\n",
        "def measure_model_error(model, xml_annotations):\n",
        "    '''requires: the model and xml path.\n",
        "    It measures the error of the model on the given\n",
        "    xml file of annotations.'''\n",
        "    error = dlib.test_shape_predictor(xml_annotations, model)\n",
        "    print(\"Error of the model: {} is {}\".format(model, error))"
      ],
      "execution_count": 0,
      "outputs": []
    },
    {
      "metadata": {
        "id": "KOs9c5fxN8Oj",
        "colab_type": "text"
      },
      "cell_type": "markdown",
      "source": [
        "Start to train\n"
      ]
    },
    {
      "metadata": {
        "id": "wE6TqxD-1TUR",
        "colab_type": "code",
        "colab": {}
      },
      "cell_type": "code",
      "source": [
        "# train a new model with a subset of the ibug annotations\n",
        "id_keypoints_train_xml = '..\\generated\\dlib_train.xml'\n",
        "id_keypoints_test_xml = '..\\generated\\dlib_test.xml'\n",
        "id_keypoints_dat = \"..\\generated\\id_keypoints.dat\"\n",
        "\n",
        "# finally train the eye model\n",
        "train_model(id_keypoints_dat, id_keypoints_train_xml)\n",
        "\n",
        "# ..and measure the model error on the testing annotations\n",
        "measure_model_error(id_keypoints_dat, id_keypoints_test_xml)"
      ],
      "execution_count": 0,
      "outputs": []
    }
  ]
}