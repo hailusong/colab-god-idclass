{
  "nbformat": 4,
  "nbformat_minor": 0,
  "metadata": {
    "colab": {
      "name": "Colab Train on Key Points using Dlib",
      "version": "0.3.2",
      "provenance": [],
      "collapsed_sections": [],
      "include_colab_link": true
    },
    "kernelspec": {
      "name": "python3",
      "display_name": "Python 3"
    },
    "accelerator": "GPU"
  },
  "cells": [
    {
      "cell_type": "markdown",
      "metadata": {
        "id": "view-in-github",
        "colab_type": "text"
      },
      "source": [
        "<a href=\"https://colab.research.google.com/github/hailusong/colab-god-idclass/blob/master/god_idclass_colabtrain_dlib.ipynb\" target=\"_parent\"><img src=\"https://colab.research.google.com/assets/colab-badge.svg\" alt=\"Open In Colab\"/></a>"
      ]
    },
    {
      "metadata": {
        "id": "TjlYaLbjqZ8T",
        "colab_type": "text"
      },
      "cell_type": "markdown",
      "source": [
        "# Training: Traing with Dlib to Detect Key Points of ID"
      ]
    },
    {
      "metadata": {
        "id": "2R9EiJRx7bMQ",
        "colab_type": "text"
      },
      "cell_type": "markdown",
      "source": [
        "**FIRST OF ALL: CHOOSE RUNTIME ENVIRONMENT TYPE TO BE GPU**<br>\n",
        "Environment variables setup.<br>\n",
        "**Tensorflow runtime version list** can be found at [here](https://cloud.google.com/ml-engine/docs/tensorflow/runtime-version-list)"
      ]
    },
    {
      "metadata": {
        "id": "P6Xb78JiIUaY",
        "colab_type": "code",
        "colab": {}
      },
      "cell_type": "code",
      "source": [
        "DEFAULT_HOME='/content'\n",
        "TF_RT_VERSION='1.13'\n",
        "PYTHON_VERSION='3.5'\n",
        "\n",
        "YOUR_GCS_BUCKET='id-norm'\n",
        "YOUR_PROJECT='orbital-purpose-130316'"
      ],
      "execution_count": 0,
      "outputs": []
    },
    {
      "metadata": {
        "id": "WqeqeLJGY2yd",
        "colab_type": "text"
      },
      "cell_type": "markdown",
      "source": [
        "Dlib and dependents"
      ]
    },
    {
      "metadata": {
        "id": "p5hdLuflY2MR",
        "colab_type": "code",
        "colab": {}
      },
      "cell_type": "code",
      "source": [
        "import cv2\n",
        "import dlib"
      ],
      "execution_count": 0,
      "outputs": []
    },
    {
      "metadata": {
        "id": "0bAXZIZvDcv8",
        "colab_type": "text"
      },
      "cell_type": "markdown",
      "source": [
        "## Session and Environment Verification (Destination - Local)"
      ]
    },
    {
      "metadata": {
        "id": "ogk6pbZ_DAYc",
        "colab_type": "text"
      },
      "cell_type": "markdown",
      "source": [
        "Establish security session with Google Cloud"
      ]
    },
    {
      "metadata": {
        "id": "JuDI1KX7rRpq",
        "colab_type": "code",
        "colab": {}
      },
      "cell_type": "code",
      "source": [
        "from google.colab import auth\n",
        "auth.authenticate_user()\n"
      ],
      "execution_count": 0,
      "outputs": []
    },
    {
      "metadata": {
        "id": "L2u7WXAwd8Si",
        "colab_type": "text"
      },
      "cell_type": "markdown",
      "source": [
        "################# RE-RUN ABOVE CELLS IF NEED TO RESTART RUNTIME #################"
      ]
    },
    {
      "metadata": {
        "id": "1mU8k4b2DZ8C",
        "colab_type": "text"
      },
      "cell_type": "markdown",
      "source": [
        "Verify Versions: TF, Python, IPython and prompt_toolkit (these two need to have compatible version), and protoc"
      ]
    },
    {
      "metadata": {
        "id": "p8pW_0h7r4L5",
        "colab_type": "code",
        "outputId": "00b4d258-812a-43a8-aafc-66cef5a88693",
        "colab": {
          "base_uri": "https://localhost:8080/",
          "height": 35
        }
      },
      "cell_type": "code",
      "source": [
        "import tensorflow as tf\n",
        "print(tf.__version__)\n",
        "assert(tf.__version__.startswith(TF_RT_VERSION + '.')), f'tf.__version__ {tf.__version__} not matching with specified TF runtime version env variable {TF_RT_VERSION}'"
      ],
      "execution_count": 4,
      "outputs": [
        {
          "output_type": "stream",
          "text": [
            "1.13.1\n"
          ],
          "name": "stdout"
        }
      ]
    },
    {
      "metadata": {
        "id": "d-WRNGIpFfo-",
        "colab_type": "code",
        "outputId": "b3896318-4d16-46b6-80a4-8690e5ae8a85",
        "colab": {
          "base_uri": "https://localhost:8080/",
          "height": 254
        }
      },
      "cell_type": "code",
      "source": [
        "!python -V\n",
        "!ipython --version\n",
        "!pip show prompt_toolkit\n",
        "!protoc --version"
      ],
      "execution_count": 5,
      "outputs": [
        {
          "output_type": "stream",
          "text": [
            "Python 3.6.7\n",
            "5.5.0\n",
            "Name: prompt-toolkit\n",
            "Version: 1.0.15\n",
            "Summary: Library for building powerful interactive command lines in Python\n",
            "Home-page: https://github.com/jonathanslenders/python-prompt-toolkit\n",
            "Author: Jonathan Slenders\n",
            "Author-email: UNKNOWN\n",
            "License: UNKNOWN\n",
            "Location: /usr/local/lib/python3.6/dist-packages\n",
            "Requires: wcwidth, six\n",
            "Required-by: jupyter-console, ipython\n",
            "libprotoc 3.0.0\n"
          ],
          "name": "stdout"
        }
      ]
    },
    {
      "metadata": {
        "id": "aCJUcq6XbZo5",
        "colab_type": "text"
      },
      "cell_type": "markdown",
      "source": [
        "## Git Sync for any Change in colab-god-idclass "
      ]
    },
    {
      "metadata": {
        "id": "IiqAkpnYbbBm",
        "colab_type": "code",
        "outputId": "27dc98d4-7f67-40c8-ebc5-aec84efa221c",
        "colab": {
          "base_uri": "https://localhost:8080/",
          "height": 235
        }
      },
      "cell_type": "code",
      "source": [
        "![ -e {DEFAULT_HOME}/colab-god-idclass ] && git -C {DEFAULT_HOME}/colab-god-idclass pull\n",
        "![ ! -e {DEFAULT_HOME}/colab-god-idclass ] && git clone --depth=1 https://github.com/hailusong/colab-god-idclass.git {DEFAULT_HOME}/colab-god-idclass"
      ],
      "execution_count": 26,
      "outputs": [
        {
          "output_type": "stream",
          "text": [
            "remote: Enumerating objects: 11, done.\u001b[K\n",
            "remote: Counting objects:   9% (1/11)   \u001b[K\rremote: Counting objects:  18% (2/11)   \u001b[K\rremote: Counting objects:  27% (3/11)   \u001b[K\rremote: Counting objects:  36% (4/11)   \u001b[K\rremote: Counting objects:  45% (5/11)   \u001b[K\rremote: Counting objects:  54% (6/11)   \u001b[K\rremote: Counting objects:  63% (7/11)   \u001b[K\rremote: Counting objects:  72% (8/11)   \u001b[K\rremote: Counting objects:  81% (9/11)   \u001b[K\rremote: Counting objects:  90% (10/11)   \u001b[K\rremote: Counting objects: 100% (11/11)   \u001b[K\rremote: Counting objects: 100% (11/11), done.\u001b[K\n",
            "remote: Compressing objects: 100% (1/1)   \u001b[K\rremote: Compressing objects: 100% (1/1), done.\u001b[K\n",
            "remote: Total 6 (delta 5), reused 6 (delta 5), pack-reused 0\u001b[K\n",
            "Unpacking objects:  16% (1/6)   \rUnpacking objects:  33% (2/6)   \rUnpacking objects:  50% (3/6)   \rUnpacking objects:  66% (4/6)   \rUnpacking objects:  83% (5/6)   \rUnpacking objects: 100% (6/6)   \rUnpacking objects: 100% (6/6), done.\n",
            "From https://github.com/hailusong/colab-god-idclass\n",
            "   eec7652..f2768cb  master     -> origin/master\n",
            "Updating eec7652..f2768cb\n",
            "Fast-forward\n",
            " src/keypoints/generate_dlibxml.py | 11 \u001b[32m+++++++\u001b[m\u001b[31m----\u001b[m\n",
            " src/keypoints/utils.py            | 10 \u001b[32m+++++\u001b[m\u001b[31m-----\u001b[m\n",
            " 2 files changed, 12 insertions(+), 9 deletions(-)\n"
          ],
          "name": "stdout"
        }
      ]
    },
    {
      "metadata": {
        "id": "1iFeRMPvBigV",
        "colab_type": "text"
      },
      "cell_type": "markdown",
      "source": [
        "Push the latest pipeline config file to the GCS"
      ]
    },
    {
      "metadata": {
        "id": "sItSbiqRmyin",
        "colab_type": "text"
      },
      "cell_type": "markdown",
      "source": [
        "### Download all bboxes and points CSV data"
      ]
    },
    {
      "metadata": {
        "id": "K4O6aVpEyQy3",
        "colab_type": "code",
        "outputId": "64c2da02-eb2b-4537-9022-0f579792a5a9",
        "colab": {
          "base_uri": "https://localhost:8080/",
          "height": 35
        }
      },
      "cell_type": "code",
      "source": [
        "import os\n",
        "os.chdir(f'{DEFAULT_HOME}')\n",
        "!pwd"
      ],
      "execution_count": 8,
      "outputs": [
        {
          "output_type": "stream",
          "text": [
            "/content\n"
          ],
          "name": "stdout"
        }
      ]
    },
    {
      "metadata": {
        "id": "KzpWTxH1yAng",
        "colab_type": "code",
        "outputId": "15637f86-5812-4e97-d06f-dd8909d41a21",
        "colab": {
          "base_uri": "https://localhost:8080/",
          "height": 90
        }
      },
      "cell_type": "code",
      "source": [
        "# Download the file.\n",
        "![[ ! -f /tmp/generated.tar.gz ]] && gsutil cp gs://{YOUR_GCS_BUCKET}/generated.tar.gz /tmp/generated.tar.gz\n",
        "!ls /tmp/*gz"
      ],
      "execution_count": 9,
      "outputs": [
        {
          "output_type": "stream",
          "text": [
            "Copying gs://id-norm/generated.tar.gz...\n",
            "| [1 files][131.2 MiB/131.2 MiB]                                                \n",
            "Operation completed over 1 objects/131.2 MiB.                                    \n",
            "/tmp/generated.tar.gz\n"
          ],
          "name": "stdout"
        }
      ]
    },
    {
      "metadata": {
        "id": "LIekVw8Nmup6",
        "colab_type": "code",
        "outputId": "708ce011-b6d9-4b31-9f03-a3d0ac6277d2",
        "colab": {
          "base_uri": "https://localhost:8080/",
          "height": 181
        }
      },
      "cell_type": "code",
      "source": [
        "![[ ! -f /tmp/generated.tar && -f /tmp/generated.tar.gz ]] && gunzip /tmp/generated.tar.gz\n",
        "![[ ! -e ./generated && -f /tmp/generated.tar ]] && tar xf /tmp/generated.tar\n",
        "!pwd\n",
        "!ls {DEFAULT_HOME}/generated"
      ],
      "execution_count": 10,
      "outputs": [
        {
          "output_type": "stream",
          "text": [
            "/content\n",
            "bbox-train-non-id1.csv\tbbox-valid-on-dl.csv\tpnts-valid-non-id2.csv\n",
            "bbox-train-non-id2.csv\tbbox-valid-on-hc.csv\tpnts-valid-non-id3.csv\n",
            "bbox-train-non-id3.csv\tpnts-train-non-id1.csv\tpnts-valid-on-dl.csv\n",
            "bbox-train-on-dl.csv\tpnts-train-non-id2.csv\tpnts-valid-on-hc.csv\n",
            "bbox-train-on-hc.csv\tpnts-train-non-id3.csv\tTrain\n",
            "bbox-valid-non-id1.csv\tpnts-train-on-dl.csv\tValid\n",
            "bbox-valid-non-id2.csv\tpnts-train-on-hc.csv\n",
            "bbox-valid-non-id3.csv\tpnts-valid-non-id1.csv\n"
          ],
          "name": "stdout"
        }
      ]
    },
    {
      "metadata": {
        "id": "bB21u8wjP68j",
        "colab_type": "text"
      },
      "cell_type": "markdown",
      "source": [
        "## Setup Training Data and Validation Data"
      ]
    },
    {
      "metadata": {
        "id": "z_AUIEV1QPkt",
        "colab_type": "code",
        "outputId": "bbe8f9f1-2d47-46d3-92f7-bf6216ef8f73",
        "colab": {
          "base_uri": "https://localhost:8080/",
          "height": 35
        }
      },
      "cell_type": "code",
      "source": [
        "import os\n",
        "os.chdir(f'{DEFAULT_HOME}/colab-god-idclass')\n",
        "!pwd\n",
        "\n",
        "# soft link to fix path issue - not required anymore\n",
        "# ![ ! -e generated ] && ln -s {DEFAULT_HOME}/generated ./generated"
      ],
      "execution_count": 27,
      "outputs": [
        {
          "output_type": "stream",
          "text": [
            "/content/colab-god-idclass\n"
          ],
          "name": "stdout"
        }
      ]
    },
    {
      "metadata": {
        "id": "GFRfuRakweEh",
        "colab_type": "code",
        "outputId": "fa8d80e5-aa9e-43b8-f619-f478b0fa11a4",
        "colab": {
          "base_uri": "https://localhost:8080/",
          "height": 181
        }
      },
      "cell_type": "code",
      "source": [
        "!pip install fire"
      ],
      "execution_count": 13,
      "outputs": [
        {
          "output_type": "stream",
          "text": [
            "Collecting fire\n",
            "  Downloading https://files.pythonhosted.org/packages/5a/b7/205702f348aab198baecd1d8344a90748cb68f53bdcd1cc30cbc08e47d3e/fire-0.1.3.tar.gz\n",
            "Requirement already satisfied: six in /usr/local/lib/python3.6/dist-packages (from fire) (1.11.0)\n",
            "Building wheels for collected packages: fire\n",
            "  Building wheel for fire (setup.py) ... \u001b[?25ldone\n",
            "\u001b[?25h  Stored in directory: /root/.cache/pip/wheels/2a/1a/4d/6b30377c3051e76559d1185c1dbbfff15aed31f87acdd14c22\n",
            "Successfully built fire\n",
            "Installing collected packages: fire\n",
            "Successfully installed fire-0.1.3\n"
          ],
          "name": "stdout"
        }
      ]
    },
    {
      "metadata": {
        "id": "ow_KwtLeQCn3",
        "colab_type": "code",
        "outputId": "4ae4855f-5200-4ee8-86e4-29d239868f3c",
        "colab": {
          "base_uri": "https://localhost:8080/",
          "height": 126
        }
      },
      "cell_type": "code",
      "source": [
        "!python {DEFAULT_HOME}/colab-god-idclass/src/keypoints/generate_dlibxml.py generate \"{DEFAULT_HOME}/generated/bbox-train-*\" {DEFAULT_HOME}/generated/dlib_train.xml .."
      ],
      "execution_count": 29,
      "outputs": [
        {
          "output_type": "stream",
          "text": [
            "working on /content/generated/bbox-train-on-hc.csv and /content/generated/pnts-train-on-hc.csv\n",
            "working on /content/generated/bbox-train-non-id1.csv and /content/generated/pnts-train-non-id1.csv\n",
            "working on /content/generated/bbox-train-non-id3.csv and /content/generated/pnts-train-non-id3.csv\n",
            "working on /content/generated/bbox-train-non-id2.csv and /content/generated/pnts-train-non-id2.csv\n",
            "working on /content/generated/bbox-train-on-dl.csv and /content/generated/pnts-train-on-dl.csv\n",
            "Payload XML count: 5868, total image count: 978.0\n"
          ],
          "name": "stdout"
        }
      ]
    },
    {
      "metadata": {
        "id": "qORiQCehQGrI",
        "colab_type": "code",
        "outputId": "40e7fab9-e8a5-4a65-84c5-beea2a2890ec",
        "colab": {
          "base_uri": "https://localhost:8080/",
          "height": 126
        }
      },
      "cell_type": "code",
      "source": [
        "!python {DEFAULT_HOME}/colab-god-idclass/src/keypoints/generate_dlibxml.py generate \"{DEFAULT_HOME}/generated/bbox-valid-*\" {DEFAULT_HOME}/generated/dlib_test.xml .."
      ],
      "execution_count": 30,
      "outputs": [
        {
          "output_type": "stream",
          "text": [
            "working on /content/generated/bbox-valid-non-id3.csv and /content/generated/pnts-valid-non-id3.csv\n",
            "working on /content/generated/bbox-valid-non-id1.csv and /content/generated/pnts-valid-non-id1.csv\n",
            "working on /content/generated/bbox-valid-on-hc.csv and /content/generated/pnts-valid-on-hc.csv\n",
            "working on /content/generated/bbox-valid-non-id2.csv and /content/generated/pnts-valid-non-id2.csv\n",
            "working on /content/generated/bbox-valid-on-dl.csv and /content/generated/pnts-valid-on-dl.csv\n",
            "Payload XML count: 1464, total image count: 244.0\n"
          ],
          "name": "stdout"
        }
      ]
    },
    {
      "metadata": {
        "id": "IM8gj6PkcwYG",
        "colab_type": "text"
      },
      "cell_type": "markdown",
      "source": [
        "## Preview Some Data"
      ]
    },
    {
      "metadata": {
        "id": "66AYANCTgdMv",
        "colab_type": "text"
      },
      "cell_type": "markdown",
      "source": [
        "### Helper Functions"
      ]
    },
    {
      "metadata": {
        "id": "FRD3qozbgitt",
        "colab_type": "code",
        "colab": {}
      },
      "cell_type": "code",
      "source": [
        "import matplotlib.pyplot as plt\n",
        "import matplotlib.patches as patches\n",
        "from PIL import Image\n",
        "import numpy as np\n",
        "\n",
        "def preview(img_fn:str, rect:list, markers_x:list, markers_y:list):\n",
        "    \"\"\"\n",
        "    rect:\n",
        "        (x, y, width, height)\n",
        "    \n",
        "    markers_x/y:\n",
        "        (x0, x1, ...)\n",
        "        (y0, y1, ...)\n",
        "    \"\"\"\n",
        "    im = np.array(Image.open(img_fn), dtype=np.uint8)\n",
        "\n",
        "    # create figure and axes\n",
        "    fig ,ax = plt.subplots(1)\n",
        "\n",
        "    # display the image\n",
        "    ax.imshow(im)\n",
        "\n",
        "    # create a Rectangle patch\n",
        "    rect = patches.Rectangle(rect[:2], *rect[2:], linewidth=1, edgecolor='r', facecolor='none')\n",
        "\n",
        "    # add the patch to the Axes\n",
        "    ax.add_patch(rect)\n",
        "\n",
        "    # markers\n",
        "#     plt.annotate('25, 50', xy=(25, 50), xycoords='data',\n",
        "#              xytext=(0.5, 0.5), textcoords='figure fraction',\n",
        "#              arrowprops=dict(arrowstyle=\"->\"))\n",
        "    plt.scatter(markers_x, markers_y, c='red', marker='o')\n",
        "\n",
        "    plt.show()"
      ],
      "execution_count": 0,
      "outputs": []
    },
    {
      "metadata": {
        "id": "Ih9ePxsUgg-m",
        "colab_type": "text"
      },
      "cell_type": "markdown",
      "source": [
        "### Preview"
      ]
    },
    {
      "metadata": {
        "id": "oDrnDC4QfdpB",
        "colab_type": "code",
        "colab": {
          "base_uri": "https://localhost:8080/",
          "height": 199
        },
        "outputId": "749afc83-f712-404c-c5f3-fe76a3e4f2e6"
      },
      "cell_type": "code",
      "source": [
        "!head  {DEFAULT_HOME}/generated/dlib_train.xml"
      ],
      "execution_count": 31,
      "outputs": [
        {
          "output_type": "stream",
          "text": [
            "<?xml version='1.0' encoding='ISO-8859-1'?>\n",
            "<?xml-stylesheet type='text/xsl' href='image_metadata_stylesheet.xsl'?>\n",
            "<dataset>\n",
            "<name>idclass</name>\n",
            "<comment>data is for /content/generated/dlib_train.xml</comment>\n",
            "<images>\n",
            "  <image file='../generated/Train/on-hc/0.png'>\n",
            "    <box top='0' left='0' height='111' width='138'>\n",
            "      <part name='0' x='15' y='28'/>\n",
            "      <part name='1' x='12' y='102'/>\n"
          ],
          "name": "stdout"
        }
      ]
    },
    {
      "metadata": {
        "id": "psszhNATkE7a",
        "colab_type": "code",
        "colab": {}
      },
      "cell_type": "code",
      "source": [
        "# Pick one image to show in the top 100\n",
        "import random\n",
        "img_picked = random.randint(0, 100)"
      ],
      "execution_count": 0,
      "outputs": []
    },
    {
      "metadata": {
        "id": "3TJHUXAYcy4b",
        "colab_type": "code",
        "outputId": "dfc8bef4-be0b-408e-c863-758725685751",
        "colab": {
          "base_uri": "https://localhost:8080/",
          "height": 269
        }
      },
      "cell_type": "code",
      "source": [
        "import xml.etree.ElementTree as et\n",
        "\n",
        "root = et.parse(f'{DEFAULT_HOME}/generated/dlib_train.xml').getroot()\n",
        "\n",
        "image = root.findall('images/image')[img_picked]\n",
        "img_fn = image.get('file')\n",
        "box = image.find('box')\n",
        "box_top= box.get('top')\n",
        "box_left = box.get('left')\n",
        "box_width = box.get('width')\n",
        "box_height = box.get('height')\n",
        "# print(f'{img_fn}: {box_top}/{box_left}/{box_width}/{box_height}')\n",
        "\n",
        "parts_x = []\n",
        "parts_y = []\n",
        "for part in box.findall('part'):\n",
        "    parts_x.append(float(part.get('x')) + float(box_left))\n",
        "    parts_y.append(float(part.get('y')) + float(box_top))\n",
        "\n",
        "preview(img_fn, (float(box_left), float(box_top), float(box_width), float(box_height)), parts_x, parts_y)\n"
      ],
      "execution_count": 33,
      "outputs": [
        {
          "output_type": "display_data",
          "data": {
            "image/png": "[encoded data removed]",
            "text/plain": [
              "<Figure size 432x288 with 1 Axes>"
            ]
          },
          "metadata": {
            "tags": []
          }
        }
      ]
    },
    {
      "metadata": {
        "id": "GmmS7dXejke0",
        "colab_type": "text"
      },
      "cell_type": "markdown",
      "source": [
        "## Start the Training and Evaluation Jobs"
      ]
    },
    {
      "metadata": {
        "id": "JT8RGNNtYibu",
        "colab_type": "text"
      },
      "cell_type": "markdown",
      "source": [
        "### Option 2: Start the Training Job on CoLab"
      ]
    },
    {
      "metadata": {
        "id": "_zYbFeiXvTgn",
        "colab_type": "code",
        "colab": {}
      },
      "cell_type": "code",
      "source": [
        "def train_model(name, xml):\n",
        "    '''\n",
        "    requires: the model name, and the path to the xml annotations.\n",
        "    It trains and saves a new model according to the specified\n",
        "    training options and given annotations\n",
        "\n",
        "    example @ https://github.com/Luca96/dlib-minified-models/tree/master/face_landmarks:\n",
        "      options = dlib.shape_predictor_training_options()\n",
        "      options.tree_depth = 4\n",
        "      options.nu = 0.1\n",
        "      options.cascade_depth = 15\n",
        "      options.feature_pool_size = 800  # or even 1000\n",
        "      options.num_test_splits = 200  # 150-200 is enough\n",
        "    '''\n",
        "    # get the training options\n",
        "    options = dlib.shape_predictor_training_options()\n",
        "    options.tree_depth = 4\n",
        "    options.nu = 0.1\n",
        "    options.cascade_depth = 15\n",
        "    options.feature_pool_size = 400\n",
        "    options.num_test_splits = 50\n",
        "    options.oversampling_amount = 5\n",
        "    #\n",
        "    options.be_verbose = True  # tells what is happening during the training\n",
        "    options.num_threads = 4    # number of the threads used to train the model\n",
        "\n",
        "    # finally, train the model\n",
        "    dlib.train_shape_predictor(xml, name, options)\n",
        "\n",
        "\n",
        "def measure_model_error(model, xml_annotations):\n",
        "    '''requires: the model and xml path.\n",
        "    It measures the error of the model on the given\n",
        "    xml file of annotations.'''\n",
        "    error = dlib.test_shape_predictor(xml_annotations, model)\n",
        "    print(\"Error of the model: {} is {}\".format(model, error))"
      ],
      "execution_count": 0,
      "outputs": []
    },
    {
      "metadata": {
        "id": "KOs9c5fxN8Oj",
        "colab_type": "text"
      },
      "cell_type": "markdown",
      "source": [
        "Start to train\n"
      ]
    },
    {
      "metadata": {
        "id": "U2lb1mlIl5Fn",
        "colab_type": "code",
        "colab": {}
      },
      "cell_type": "code",
      "source": [
        "# train a new model with a subset of the ibug annotations\n",
        "id_keypoints_train_xml = f'{DEFAULT_HOME}/generated/dlib_train.xml'\n",
        "id_keypoints_test_xml = f'{DEFAULT_HOME}/generated/dlib_test.xml'\n",
        "id_keypoints_dat = f'{DEFAULT_HOME}/generated/id_keypoints.dat'"
      ],
      "execution_count": 0,
      "outputs": []
    },
    {
      "metadata": {
        "id": "wE6TqxD-1TUR",
        "colab_type": "code",
        "outputId": "592cb617-0703-472e-9b84-0efda137bf36",
        "colab": {
          "base_uri": "https://localhost:8080/",
          "height": 54
        }
      },
      "cell_type": "code",
      "source": [
        "# finally train the eye model\n",
        "train_model(id_keypoints_dat, id_keypoints_train_xml)\n",
        "\n",
        "# ..and measure the model error on the testing annotations\n",
        "measure_model_error(id_keypoints_dat, id_keypoints_test_xml)"
      ],
      "execution_count": 34,
      "outputs": [
        {
          "output_type": "stream",
          "text": [
            "-rw-rw-r-- 1 1003 1003 137273 Mar 25 20:14 generated/Train/on-hc/0.png\n",
            "Error of the model: /content/generated/id_keypoints.dat is 24.497439409171548\n"
          ],
          "name": "stdout"
        }
      ]
    },
    {
      "metadata": {
        "id": "wuxzM2jWkw1p",
        "colab_type": "text"
      },
      "cell_type": "markdown",
      "source": [
        "## Inference with Dlib"
      ]
    },
    {
      "metadata": {
        "id": "GpiA0OA0k-JM",
        "colab_type": "text"
      },
      "cell_type": "markdown",
      "source": [
        "Load trained model"
      ]
    },
    {
      "metadata": {
        "id": "L2V7n1d-lAHy",
        "colab_type": "code",
        "colab": {}
      },
      "cell_type": "code",
      "source": [
        "predictor = dlib.shape_predictor(id_keypoints_dat)"
      ],
      "execution_count": 0,
      "outputs": []
    },
    {
      "metadata": {
        "id": "YWnMW4xslHi-",
        "colab_type": "text"
      },
      "cell_type": "markdown",
      "source": [
        "Pick one image from test dataset"
      ]
    },
    {
      "metadata": {
        "id": "nEr6TlRFlPQY",
        "colab_type": "code",
        "colab": {}
      },
      "cell_type": "code",
      "source": [
        "# Pick one image to show in the top 100\n",
        "import random\n",
        "img_picked = random.randint(0, 100)"
      ],
      "execution_count": 0,
      "outputs": []
    },
    {
      "metadata": {
        "id": "dCDakEdilJrA",
        "colab_type": "code",
        "colab": {}
      },
      "cell_type": "code",
      "source": [
        "import xml.etree.ElementTree as et\n",
        "\n",
        "root = et.parse(f'{DEFAULT_HOME}/generated/dlib_test.xml').getroot()\n",
        "\n",
        "image = root.findall('images/image')[img_picked]\n",
        "img_fn = image.get('file')\n",
        "box = image.find('box')\n",
        "box_top= box.get('top')\n",
        "box_left = box.get('left')\n",
        "box_width = box.get('width')\n",
        "box_height = box.get('height')\n",
        "# print(f'{img_fn}: {box_top}/{box_left}/{box_width}/{box_height}')\n",
        "\n",
        "parts_x = []\n",
        "parts_y = []\n",
        "for part in box.findall('part'):\n",
        "    parts_x.append(float(part.get('x')) + float(box_left))\n",
        "    parts_y.append(float(part.get('y')) + float(box_top))\n"
      ],
      "execution_count": 0,
      "outputs": []
    },
    {
      "metadata": {
        "id": "JooV2tKdlUys",
        "colab_type": "text"
      },
      "cell_type": "markdown",
      "source": [
        "Inference ..."
      ]
    },
    {
      "metadata": {
        "id": "1uU5QlpZkx8S",
        "colab_type": "code",
        "colab": {
          "base_uri": "https://localhost:8080/",
          "height": 1171
        },
        "outputId": "94e349d5-b94f-49a8-98a3-a7057dee3194"
      },
      "cell_type": "code",
      "source": [
        "# determine the facial landmarks for the face region, then\n",
        "# convert the facial landmark (x, y)-coordinates to a NumPy\n",
        "# array\n",
        "im = np.array(Image.open(img_fn), dtype=np.uint8)\n",
        "rect = (float(box_left), float(box_top), float(box_width), float(box_height))\n",
        "shape = predictor(im, rect)\n",
        "print(shape)\n",
        "\n",
        "# shape = face_utils.shape_to_np(shape)\n",
        "\n",
        "# # loop over the (x, y)-coordinates for the facial landmarks\n",
        "# # and draw each of them\n",
        "# for (i, (x, y)) in enumerate(shape):\n",
        "#     cv2.circle(frame, (x, y), 1, (0, 0, 255), -1)\n",
        "#     cv2.putText(frame, str(i + 1), (x - 10, y - 10),\n",
        "#     cv2.FONT_HERSHEY_SIMPLEX, 0.35, (0, 0, 255), 1)"
      ],
      "execution_count": 38,
      "outputs": [
        {
          "output_type": "error",
          "ename": "TypeError",
          "evalue": "ignored",
          "traceback": [
            "\u001b[0;31m---------------------------------------------------------------------------\u001b[0m",
            "\u001b[0;31mTypeError\u001b[0m                                 Traceback (most recent call last)",
            "\u001b[0;32m<ipython-input-38-ac04a2ae3cde>\u001b[0m in \u001b[0;36m<module>\u001b[0;34m()\u001b[0m\n\u001b[1;32m      1\u001b[0m \u001b[0mim\u001b[0m \u001b[0;34m=\u001b[0m \u001b[0mnp\u001b[0m\u001b[0;34m.\u001b[0m\u001b[0marray\u001b[0m\u001b[0;34m(\u001b[0m\u001b[0mImage\u001b[0m\u001b[0;34m.\u001b[0m\u001b[0mopen\u001b[0m\u001b[0;34m(\u001b[0m\u001b[0mimg_fn\u001b[0m\u001b[0;34m)\u001b[0m\u001b[0;34m,\u001b[0m \u001b[0mdtype\u001b[0m\u001b[0;34m=\u001b[0m\u001b[0mnp\u001b[0m\u001b[0;34m.\u001b[0m\u001b[0muint8\u001b[0m\u001b[0;34m)\u001b[0m\u001b[0;34m\u001b[0m\u001b[0;34m\u001b[0m\u001b[0m\n\u001b[1;32m      2\u001b[0m \u001b[0mrect\u001b[0m \u001b[0;34m=\u001b[0m \u001b[0;34m(\u001b[0m\u001b[0mfloat\u001b[0m\u001b[0;34m(\u001b[0m\u001b[0mbox_left\u001b[0m\u001b[0;34m)\u001b[0m\u001b[0;34m,\u001b[0m \u001b[0mfloat\u001b[0m\u001b[0;34m(\u001b[0m\u001b[0mbox_top\u001b[0m\u001b[0;34m)\u001b[0m\u001b[0;34m,\u001b[0m \u001b[0mfloat\u001b[0m\u001b[0;34m(\u001b[0m\u001b[0mbox_width\u001b[0m\u001b[0;34m)\u001b[0m\u001b[0;34m,\u001b[0m \u001b[0mfloat\u001b[0m\u001b[0;34m(\u001b[0m\u001b[0mbox_height\u001b[0m\u001b[0;34m)\u001b[0m\u001b[0;34m)\u001b[0m\u001b[0;34m\u001b[0m\u001b[0;34m\u001b[0m\u001b[0m\n\u001b[0;32m----> 3\u001b[0;31m \u001b[0mshape\u001b[0m \u001b[0;34m=\u001b[0m \u001b[0mpredictor\u001b[0m\u001b[0;34m(\u001b[0m\u001b[0mim\u001b[0m\u001b[0;34m,\u001b[0m \u001b[0mrect\u001b[0m\u001b[0;34m)\u001b[0m\u001b[0;34m\u001b[0m\u001b[0;34m\u001b[0m\u001b[0m\n\u001b[0m\u001b[1;32m      4\u001b[0m \u001b[0mprint\u001b[0m\u001b[0;34m(\u001b[0m\u001b[0mshape\u001b[0m\u001b[0;34m)\u001b[0m\u001b[0;34m\u001b[0m\u001b[0;34m\u001b[0m\u001b[0m\n\u001b[1;32m      5\u001b[0m \u001b[0;34m\u001b[0m\u001b[0m\n",
            "\u001b[0;31mTypeError\u001b[0m: __call__(): incompatible function arguments. The following argument types are supported:\n    1. (self: dlib.shape_predictor, image: array, box: dlib.rectangle) -> dlib.full_object_detection\n\nInvoked with: <dlib.shape_predictor object at 0x7f24c001aa08>, array([[[ 71,  58,  67],\n        [ 77,  64,  73],\n        [ 72,  59,  66],\n        ...,\n        [ 85,  62,  46],\n        [ 87,  64,  48],\n        [ 84,  62,  48]],\n\n       [[ 69,  56,  63],\n        [ 71,  58,  65],\n        [ 73,  61,  65],\n        ...,\n        [ 81,  58,  42],\n        [ 84,  61,  45],\n        [ 80,  59,  42]],\n\n       [[ 69,  57,  59],\n        [ 66,  54,  56],\n        [ 73,  61,  61],\n        ...,\n        [ 77,  54,  36],\n        [ 78,  55,  39],\n        [ 73,  52,  35]],\n\n       ...,\n\n       [[116, 103,  71],\n        [115, 102,  70],\n        [114, 101,  69],\n        ...,\n        [110,  96,  61],\n        [108,  95,  60],\n        [108,  95,  60]],\n\n       [[116, 103,  71],\n        [115, 102,  70],\n        [114, 100,  71],\n        ...,\n        [111,  97,  62],\n        [108,  95,  60],\n        [107,  94,  59]],\n\n       [[117, 104,  72],\n        [116, 103,  71],\n        [114, 100,  71],\n        ...,\n        [111,  97,  62],\n        [109,  95,  60],\n        [107,  94,  59]]], dtype=uint8), (5.0, 47.0, 236.0, 141.0)"
          ]
        }
      ]
    },
    {
      "metadata": {
        "id": "hiVLcq1zlahl",
        "colab_type": "text"
      },
      "cell_type": "markdown",
      "source": [
        "Preview"
      ]
    },
    {
      "metadata": {
        "id": "_munfGm-laCz",
        "colab_type": "code",
        "colab": {}
      },
      "cell_type": "code",
      "source": [
        "preview('../' + img_fn, (float(box_left), float(box_top), float(box_width), float(box_height)), parts_x, parts_y)\n"
      ],
      "execution_count": 0,
      "outputs": []
    }
  ]
}