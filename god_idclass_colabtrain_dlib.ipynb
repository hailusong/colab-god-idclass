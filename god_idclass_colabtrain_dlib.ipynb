{
  "nbformat": 4,
  "nbformat_minor": 0,
  "metadata": {
    "colab": {
      "name": "Colab Train on Key Points using Dlib",
      "version": "0.3.2",
      "provenance": [],
      "collapsed_sections": [],
      "include_colab_link": true
    },
    "kernelspec": {
      "name": "python3",
      "display_name": "Python 3"
    },
    "accelerator": "GPU"
  },
  "cells": [
    {
      "cell_type": "markdown",
      "metadata": {
        "id": "view-in-github",
        "colab_type": "text"
      },
      "source": [
        "<a href=\"https://colab.research.google.com/github/hailusong/colab-god-idclass/blob/master/god_idclass_colabtrain_dlib.ipynb\" target=\"_parent\"><img src=\"https://colab.research.google.com/assets/colab-badge.svg\" alt=\"Open In Colab\"/></a>"
      ]
    },
    {
      "metadata": {
        "id": "TjlYaLbjqZ8T",
        "colab_type": "text"
      },
      "cell_type": "markdown",
      "source": [
        "# Training: Traing with Dlib to Detect Key Points of ID"
      ]
    },
    {
      "metadata": {
        "id": "2R9EiJRx7bMQ",
        "colab_type": "text"
      },
      "cell_type": "markdown",
      "source": [
        "**FIRST OF ALL: CHOOSE RUNTIME ENVIRONMENT TYPE TO BE GPU**<br>\n",
        "Environment variables setup.<br>\n",
        "**Tensorflow runtime version list** can be found at [here](https://cloud.google.com/ml-engine/docs/tensorflow/runtime-version-list)"
      ]
    },
    {
      "metadata": {
        "id": "P6Xb78JiIUaY",
        "colab_type": "code",
        "colab": {}
      },
      "cell_type": "code",
      "source": [
        "DEFAULT_HOME='/content'\n",
        "TF_RT_VERSION='1.13'\n",
        "PYTHON_VERSION='3.5'\n",
        "\n",
        "YOUR_GCS_BUCKET='id-norm'\n",
        "YOUR_PROJECT='orbital-purpose-130316'"
      ],
      "execution_count": 0,
      "outputs": []
    },
    {
      "metadata": {
        "id": "WqeqeLJGY2yd",
        "colab_type": "text"
      },
      "cell_type": "markdown",
      "source": [
        "Dlib and dependents"
      ]
    },
    {
      "metadata": {
        "id": "p5hdLuflY2MR",
        "colab_type": "code",
        "colab": {}
      },
      "cell_type": "code",
      "source": [
        "import cv2\n",
        "import dlib"
      ],
      "execution_count": 0,
      "outputs": []
    },
    {
      "metadata": {
        "id": "0bAXZIZvDcv8",
        "colab_type": "text"
      },
      "cell_type": "markdown",
      "source": [
        "## Session and Environment Verification (Destination - Local)"
      ]
    },
    {
      "metadata": {
        "id": "ogk6pbZ_DAYc",
        "colab_type": "text"
      },
      "cell_type": "markdown",
      "source": [
        "Establish security session with Google Cloud"
      ]
    },
    {
      "metadata": {
        "id": "JuDI1KX7rRpq",
        "colab_type": "code",
        "colab": {}
      },
      "cell_type": "code",
      "source": [
        "from google.colab import auth\n",
        "auth.authenticate_user()\n"
      ],
      "execution_count": 0,
      "outputs": []
    },
    {
      "metadata": {
        "id": "L2u7WXAwd8Si",
        "colab_type": "text"
      },
      "cell_type": "markdown",
      "source": [
        "################# RE-RUN ABOVE CELLS IF NEED TO RESTART RUNTIME #################"
      ]
    },
    {
      "metadata": {
        "id": "1mU8k4b2DZ8C",
        "colab_type": "text"
      },
      "cell_type": "markdown",
      "source": [
        "Verify Versions: TF, Python, IPython and prompt_toolkit (these two need to have compatible version), and protoc"
      ]
    },
    {
      "metadata": {
        "id": "p8pW_0h7r4L5",
        "colab_type": "code",
        "outputId": "f078828e-b312-4db6-b70d-d387230f5c5b",
        "colab": {
          "base_uri": "https://localhost:8080/",
          "height": 34
        }
      },
      "cell_type": "code",
      "source": [
        "import tensorflow as tf\n",
        "print(tf.__version__)\n",
        "assert(tf.__version__.startswith(TF_RT_VERSION + '.')), f'tf.__version__ {tf.__version__} not matching with specified TF runtime version env variable {TF_RT_VERSION}'"
      ],
      "execution_count": 4,
      "outputs": [
        {
          "output_type": "stream",
          "text": [
            "1.13.1\n"
          ],
          "name": "stdout"
        }
      ]
    },
    {
      "metadata": {
        "id": "d-WRNGIpFfo-",
        "colab_type": "code",
        "outputId": "9150e0bb-22d7-4ed5-ebe9-68db472847ef",
        "colab": {
          "base_uri": "https://localhost:8080/",
          "height": 238
        }
      },
      "cell_type": "code",
      "source": [
        "!python -V\n",
        "!ipython --version\n",
        "!pip show prompt_toolkit\n",
        "!protoc --version"
      ],
      "execution_count": 5,
      "outputs": [
        {
          "output_type": "stream",
          "text": [
            "Python 3.6.7\n",
            "5.5.0\n",
            "Name: prompt-toolkit\n",
            "Version: 1.0.15\n",
            "Summary: Library for building powerful interactive command lines in Python\n",
            "Home-page: https://github.com/jonathanslenders/python-prompt-toolkit\n",
            "Author: Jonathan Slenders\n",
            "Author-email: UNKNOWN\n",
            "License: UNKNOWN\n",
            "Location: /usr/local/lib/python3.6/dist-packages\n",
            "Requires: wcwidth, six\n",
            "Required-by: jupyter-console, ipython\n",
            "libprotoc 3.0.0\n"
          ],
          "name": "stdout"
        }
      ]
    },
    {
      "metadata": {
        "id": "aCJUcq6XbZo5",
        "colab_type": "text"
      },
      "cell_type": "markdown",
      "source": [
        "## Git Sync for any Change in colab-god-idclass "
      ]
    },
    {
      "metadata": {
        "id": "IiqAkpnYbbBm",
        "colab_type": "code",
        "outputId": "e5e8fc1c-597d-47f9-867e-d8fbb2eeff47",
        "colab": {
          "base_uri": "https://localhost:8080/",
          "height": 34
        }
      },
      "cell_type": "code",
      "source": [
        "![ -e {DEFAULT_HOME}/colab-god-idclass ] && git -C {DEFAULT_HOME}/colab-god-idclass pull\n",
        "![ ! -e {DEFAULT_HOME}/colab-god-idclass ] && git clone --depth=1 https://github.com/hailusong/colab-god-idclass.git {DEFAULT_HOME}/colab-god-idclass"
      ],
      "execution_count": 6,
      "outputs": [
        {
          "output_type": "stream",
          "text": [
            "Already up to date.\n"
          ],
          "name": "stdout"
        }
      ]
    },
    {
      "metadata": {
        "id": "1iFeRMPvBigV",
        "colab_type": "text"
      },
      "cell_type": "markdown",
      "source": [
        "Push the latest pipeline config file to the GCS"
      ]
    },
    {
      "metadata": {
        "id": "sItSbiqRmyin",
        "colab_type": "text"
      },
      "cell_type": "markdown",
      "source": [
        "### Download all bboxes and points CSV data"
      ]
    },
    {
      "metadata": {
        "id": "K4O6aVpEyQy3",
        "colab_type": "code",
        "colab": {
          "base_uri": "https://localhost:8080/",
          "height": 34
        },
        "outputId": "40e7c61f-621b-45a8-ee71-4e3186f59e4c"
      },
      "cell_type": "code",
      "source": [
        "import os\n",
        "os.chdir(f'{DEFAULT_HOME}')\n",
        "!pwd"
      ],
      "execution_count": 12,
      "outputs": [
        {
          "output_type": "stream",
          "text": [
            "/content\n"
          ],
          "name": "stdout"
        }
      ]
    },
    {
      "metadata": {
        "id": "KzpWTxH1yAng",
        "colab_type": "code",
        "colab": {
          "base_uri": "https://localhost:8080/",
          "height": 34
        },
        "outputId": "2b54d1a1-cc0a-4493-8765-bdc06127fd3a"
      },
      "cell_type": "code",
      "source": [
        "# Download the file.\n",
        "![[ ! -f /tmp/generated.tar.gz ]] && gsutil cp gs://{YOUR_GCS_BUCKET}/generated.tar.gz /tmp/generated.tar.gz\n",
        "!ls /tmp/*gz"
      ],
      "execution_count": 13,
      "outputs": [
        {
          "output_type": "stream",
          "text": [
            "/tmp/generated.tar.gz\n"
          ],
          "name": "stdout"
        }
      ]
    },
    {
      "metadata": {
        "id": "LIekVw8Nmup6",
        "colab_type": "code",
        "outputId": "cf2ea371-5437-4336-a19c-cfd5ab9adf55",
        "colab": {
          "base_uri": "https://localhost:8080/",
          "height": 170
        }
      },
      "cell_type": "code",
      "source": [
        "![[ ! -f /tmp/generated.tar && -f /tmp/generated.tar.gz ]] && gunzip /tmp/generated.tar.gz\n",
        "![[ ! -e ./generated && -f /tmp/generated.tar ]] && tar xf /tmp/generated.tar\n",
        "!pwd\n",
        "!ls {DEFAULT_HOME}/generated"
      ],
      "execution_count": 14,
      "outputs": [
        {
          "output_type": "stream",
          "text": [
            "/content\n",
            "bbox-train-non-id1.csv\tbbox-valid-on-dl.csv\tpnts-valid-non-id2.csv\n",
            "bbox-train-non-id2.csv\tbbox-valid-on-hc.csv\tpnts-valid-non-id3.csv\n",
            "bbox-train-non-id3.csv\tpnts-train-non-id1.csv\tpnts-valid-on-dl.csv\n",
            "bbox-train-on-dl.csv\tpnts-train-non-id2.csv\tpnts-valid-on-hc.csv\n",
            "bbox-train-on-hc.csv\tpnts-train-non-id3.csv\tTrain\n",
            "bbox-valid-non-id1.csv\tpnts-train-on-dl.csv\tValid\n",
            "bbox-valid-non-id2.csv\tpnts-train-on-hc.csv\n",
            "bbox-valid-non-id3.csv\tpnts-valid-non-id1.csv\n"
          ],
          "name": "stdout"
        }
      ]
    },
    {
      "metadata": {
        "id": "bB21u8wjP68j",
        "colab_type": "text"
      },
      "cell_type": "markdown",
      "source": [
        "## Setup Training Data and Validation Data"
      ]
    },
    {
      "metadata": {
        "id": "z_AUIEV1QPkt",
        "colab_type": "code",
        "colab": {
          "base_uri": "https://localhost:8080/",
          "height": 34
        },
        "outputId": "b100fda1-1c46-43ea-bfc6-cc267751d507"
      },
      "cell_type": "code",
      "source": [
        "import os\n",
        "os.chdir(f'{DEFAULT_HOME}/colab-god-idclass')\n",
        "!pwd"
      ],
      "execution_count": 7,
      "outputs": [
        {
          "output_type": "stream",
          "text": [
            "/content/colab-god-idclass\n"
          ],
          "name": "stdout"
        }
      ]
    },
    {
      "metadata": {
        "id": "GFRfuRakweEh",
        "colab_type": "code",
        "colab": {
          "base_uri": "https://localhost:8080/",
          "height": 51
        },
        "outputId": "1e5bba02-23f9-4151-c743-6ce809bf6381"
      },
      "cell_type": "code",
      "source": [
        "!pip install fire"
      ],
      "execution_count": 8,
      "outputs": [
        {
          "output_type": "stream",
          "text": [
            "Requirement already satisfied: fire in /usr/local/lib/python3.6/dist-packages (0.1.3)\n",
            "Requirement already satisfied: six in /usr/local/lib/python3.6/dist-packages (from fire) (1.11.0)\n"
          ],
          "name": "stdout"
        }
      ]
    },
    {
      "metadata": {
        "id": "ow_KwtLeQCn3",
        "colab_type": "code",
        "colab": {
          "base_uri": "https://localhost:8080/",
          "height": 119
        },
        "outputId": "bc1e66ba-f906-48dc-e0bf-e85c14d06768"
      },
      "cell_type": "code",
      "source": [
        "!python {DEFAULT_HOME}/colab-god-idclass/src/dlib/generate_dlibxml.py generate \"{DEFAULT_HOME}/generated/bbox-train-*\" {DEFAULT_HOME}/generated\\dlib_train.xml"
      ],
      "execution_count": 15,
      "outputs": [
        {
          "output_type": "stream",
          "text": [
            "working on /content/generated/bbox-train-non-id1.csv and /content/generated/pnts-train-non-id1.csv\n",
            "working on /content/generated/bbox-train-on-hc.csv and /content/generated/pnts-train-on-hc.csv\n",
            "working on /content/generated/bbox-train-non-id2.csv and /content/generated/pnts-train-non-id2.csv\n",
            "working on /content/generated/bbox-train-on-dl.csv and /content/generated/pnts-train-on-dl.csv\n",
            "working on /content/generated/bbox-train-non-id3.csv and /content/generated/pnts-train-non-id3.csv\n",
            "Payload XML count: 5868, total image count: 978.0\n"
          ],
          "name": "stdout"
        }
      ]
    },
    {
      "metadata": {
        "id": "qORiQCehQGrI",
        "colab_type": "code",
        "colab": {
          "base_uri": "https://localhost:8080/",
          "height": 119
        },
        "outputId": "d3174e3e-cc98-49e7-cdc5-5bad1044bb1a"
      },
      "cell_type": "code",
      "source": [
        "!python {DEFAULT_HOME}/colab-god-idclass/src/dlib/generate_dlibxml.py generate \"{DEFAULT_HOME}/generated/bbox-valid-*\" {DEFAULT_HOME}/generated\\dlib_test.xml"
      ],
      "execution_count": 16,
      "outputs": [
        {
          "output_type": "stream",
          "text": [
            "working on /content/generated/bbox-valid-non-id3.csv and /content/generated/pnts-valid-non-id3.csv\n",
            "working on /content/generated/bbox-valid-on-dl.csv and /content/generated/pnts-valid-on-dl.csv\n",
            "working on /content/generated/bbox-valid-non-id2.csv and /content/generated/pnts-valid-non-id2.csv\n",
            "working on /content/generated/bbox-valid-on-hc.csv and /content/generated/pnts-valid-on-hc.csv\n",
            "working on /content/generated/bbox-valid-non-id1.csv and /content/generated/pnts-valid-non-id1.csv\n",
            "Payload XML count: 1464, total image count: 244.0\n"
          ],
          "name": "stdout"
        }
      ]
    },
    {
      "metadata": {
        "id": "GmmS7dXejke0",
        "colab_type": "text"
      },
      "cell_type": "markdown",
      "source": [
        "## Start the Training and Evaluation Jobs"
      ]
    },
    {
      "metadata": {
        "id": "JT8RGNNtYibu",
        "colab_type": "text"
      },
      "cell_type": "markdown",
      "source": [
        "### Option 2: Start the Training Job on CoLab"
      ]
    },
    {
      "metadata": {
        "id": "_zYbFeiXvTgn",
        "colab_type": "code",
        "colab": {}
      },
      "cell_type": "code",
      "source": [
        "def train_model(name, xml):\n",
        "  '''\n",
        "  requires: the model name, and the path to the xml annotations.\n",
        "  It trains and saves a new model according to the specified\n",
        "  training options and given annotations\n",
        "\n",
        "  example @ https://github.com/Luca96/dlib-minified-models/tree/master/face_landmarks:\n",
        "    options = dlib.shape_predictor_training_options()\n",
        "    options.tree_depth = 4\n",
        "    options.nu = 0.1\n",
        "    options.cascade_depth = 15\n",
        "    options.feature_pool_size = 800  # or even 1000\n",
        "    options.num_test_splits = 200  # 150-200 is enough\n",
        "  '''\n",
        "  # get the training options\n",
        "  options = dlib.shape_predictor_training_options()\n",
        "  options.tree_depth = 4\n",
        "  options.nu = 0.1\n",
        "  options.cascade_depth = 15\n",
        "  options.feature_pool_size = 400\n",
        "  options.num_test_splits = 50\n",
        "  options.oversampling_amount = 5\n",
        "  #\n",
        "  options.be_verbose = True  # tells what is happening during the training\n",
        "  options.num_threads = 4    # number of the threads used to train the model\n",
        "\n",
        "  # finally, train the model\n",
        "  dlib.train_shape_predictor(xml, name, options)\n",
        "\n",
        "\n",
        "def measure_model_error(model, xml_annotations):\n",
        "    '''requires: the model and xml path.\n",
        "    It measures the error of the model on the given\n",
        "    xml file of annotations.'''\n",
        "    error = dlib.test_shape_predictor(xml_annotations, model)\n",
        "    print(\"Error of the model: {} is {}\".format(model, error))"
      ],
      "execution_count": 0,
      "outputs": []
    },
    {
      "metadata": {
        "id": "KOs9c5fxN8Oj",
        "colab_type": "text"
      },
      "cell_type": "markdown",
      "source": [
        "Start to train\n"
      ]
    },
    {
      "metadata": {
        "id": "wE6TqxD-1TUR",
        "colab_type": "code",
        "colab": {}
      },
      "cell_type": "code",
      "source": [
        "# train a new model with a subset of the ibug annotations\n",
        "id_keypoints_train_xml = '..\\generated\\dlib_train.xml'\n",
        "id_keypoints_test_xml = '..\\generated\\dlib_test.xml'\n",
        "id_keypoints_dat = \"..\\generated\\id_keypoints.dat\"\n",
        "\n",
        "# finally train the eye model\n",
        "train_model(id_keypoints_dat, id_keypoints_train_xml)\n",
        "\n",
        "# ..and measure the model error on the testing annotations\n",
        "measure_model_error(id_keypoints_dat, id_keypoints_test_xml)"
      ],
      "execution_count": 0,
      "outputs": []
    }
  ]
}