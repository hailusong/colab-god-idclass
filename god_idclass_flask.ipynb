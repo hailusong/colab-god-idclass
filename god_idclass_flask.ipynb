{
  "nbformat": 4,
  "nbformat_minor": 0,
  "metadata": {
    "colab": {
      "name": "Flask on Colab",
      "version": "0.3.2",
      "provenance": [],
      "collapsed_sections": [],
      "include_colab_link": true
    },
    "kernelspec": {
      "name": "python3",
      "display_name": "Python 3"
    },
    "accelerator": "GPU"
  },
  "cells": [
    {
      "cell_type": "markdown",
      "metadata": {
        "id": "view-in-github",
        "colab_type": "text"
      },
      "source": [
        "<a href=\"https://colab.research.google.com/github/hailusong/colab-god-idclass/blob/master/god_idclass_flask.ipynb\" target=\"_parent\"><img src=\"https://colab.research.google.com/assets/colab-badge.svg\" alt=\"Open In Colab\"/></a>"
      ]
    },
    {
      "metadata": {
        "id": "TjlYaLbjqZ8T",
        "colab_type": "text"
      },
      "cell_type": "markdown",
      "source": [
        "# Flask Serving: Custom Train Google Object Detection to Detect ID BBox"
      ]
    },
    {
      "metadata": {
        "id": "2R9EiJRx7bMQ",
        "colab_type": "text"
      },
      "cell_type": "markdown",
      "source": [
        "**FIRST OF ALL: CHOOSE RUNTIME ENVIRONMENT TYPE TO BE GPU**<br>\n",
        "Environment variables setup.<br>\n",
        "**Tensorflow runtime version list** can be found at [here](https://cloud.google.com/ml-engine/docs/tensorflow/runtime-version-list)"
      ]
    },
    {
      "metadata": {
        "id": "P6Xb78JiIUaY",
        "colab_type": "code",
        "colab": {}
      },
      "cell_type": "code",
      "source": [
        "DEFAULT_HOME='/content'\n",
        "TF_RT_VERSION='1.13'\n",
        "PYTHON_VERSION='3.5'\n",
        "\n",
        "YOUR_GCS_BUCKET='id-norm'\n",
        "YOUR_PROJECT='orbital-purpose-130316'"
      ],
      "execution_count": 0,
      "outputs": []
    },
    {
      "metadata": {
        "id": "MaJPIv43jhUu",
        "colab_type": "text"
      },
      "cell_type": "markdown",
      "source": [
        "Select the right model from [this official list](https://github.com/tensorflow/models/blob/master/research/object_detection/g3doc/detection_model_zoo.md):\n",
        "\n",
        "| model | dataset | datetime | notes |\n",
        "| - |  - | - | - |\n",
        "| ssd_inception_v2 | coco | 2018_01_28 | |\n",
        "| ~~ssd_inception_v3~~ | ~~pets~~ | ~~11_06_2017~~ | |\n",
        "| ssd_mobilenet_v2 | coco | 2018_03_29 | |\n",
        "| faster_rcnn_resnet101 | coco | 11_06_2017 | |"
      ]
    },
    {
      "metadata": {
        "id": "t8YjdY8yjiMj",
        "colab_type": "code",
        "colab": {}
      },
      "cell_type": "code",
      "source": [
        "DOWNLOAD_BASE = 'http://download.tensorflow.org/models/object_detection/'\n",
        "\n",
        "MODEL_NAME = 'ssd_mobilenet_v2'\n",
        "PRETRAINED_DATASET = 'coco'\n",
        "PRETRAINED_TS = '2018_03_29'\n",
        "PRETRAINED_MODEL_NAME = f'{MODEL_NAME}_{PRETRAINED_DATASET}_{PRETRAINED_TS}'\n",
        "PIPELINE_CONFIG_NAME = f'pipeline_{MODEL_NAME}'"
      ],
      "execution_count": 0,
      "outputs": []
    },
    {
      "metadata": {
        "id": "0bAXZIZvDcv8",
        "colab_type": "text"
      },
      "cell_type": "markdown",
      "source": [
        "## Session and Environment Verification (Destination - Local)"
      ]
    },
    {
      "metadata": {
        "id": "ogk6pbZ_DAYc",
        "colab_type": "text"
      },
      "cell_type": "markdown",
      "source": [
        "Establish security session with Google Cloud"
      ]
    },
    {
      "metadata": {
        "id": "JuDI1KX7rRpq",
        "colab_type": "code",
        "colab": {}
      },
      "cell_type": "code",
      "source": [
        "from google.colab import auth\n",
        "auth.authenticate_user()\n"
      ],
      "execution_count": 0,
      "outputs": []
    },
    {
      "metadata": {
        "id": "L2u7WXAwd8Si",
        "colab_type": "text"
      },
      "cell_type": "markdown",
      "source": [
        "################# RE-RUN ABOVE CELLS IF NEED TO RESTART RUNTIME #################"
      ]
    },
    {
      "metadata": {
        "id": "1mU8k4b2DZ8C",
        "colab_type": "text"
      },
      "cell_type": "markdown",
      "source": [
        "Verify Versions: TF, Python, IPython and prompt_toolkit (these two need to have compatible version), and protoc"
      ]
    },
    {
      "metadata": {
        "id": "p8pW_0h7r4L5",
        "colab_type": "code",
        "outputId": "63b1c520-2e7f-4696-9811-db5516aae0fe",
        "colab": {
          "base_uri": "https://localhost:8080/",
          "height": 35
        }
      },
      "cell_type": "code",
      "source": [
        "import tensorflow as tf\n",
        "print(tf.__version__)\n",
        "assert(tf.__version__.startswith(TF_RT_VERSION + '.')), f'tf.__version__ {tf.__version__} not matching with specified TF runtime version env variable {TF_RT_VERSION}'"
      ],
      "execution_count": 4,
      "outputs": [
        {
          "output_type": "stream",
          "text": [
            "1.13.1\n"
          ],
          "name": "stdout"
        }
      ]
    },
    {
      "metadata": {
        "id": "d-WRNGIpFfo-",
        "colab_type": "code",
        "outputId": "d23aad8b-6ffe-4f70-cfae-e4f7f58377f2",
        "colab": {
          "base_uri": "https://localhost:8080/",
          "height": 254
        }
      },
      "cell_type": "code",
      "source": [
        "!python -V\n",
        "!ipython --version\n",
        "!pip show prompt_toolkit\n",
        "!protoc --version"
      ],
      "execution_count": 5,
      "outputs": [
        {
          "output_type": "stream",
          "text": [
            "Python 3.6.7\n",
            "5.5.0\n",
            "Name: prompt-toolkit\n",
            "Version: 1.0.16\n",
            "Summary: Library for building powerful interactive command lines in Python\n",
            "Home-page: https://github.com/jonathanslenders/python-prompt-toolkit\n",
            "Author: Jonathan Slenders\n",
            "Author-email: UNKNOWN\n",
            "License: UNKNOWN\n",
            "Location: /usr/local/lib/python3.6/dist-packages\n",
            "Requires: six, wcwidth\n",
            "Required-by: jupyter-console, ipython\n",
            "libprotoc 3.0.0\n"
          ],
          "name": "stdout"
        }
      ]
    },
    {
      "metadata": {
        "id": "omvtVm1tEXTk",
        "colab_type": "text"
      },
      "cell_type": "markdown",
      "source": [
        "## Install Google Object Detection API in Colab\n",
        "Reference is https://colab.research.google.com/drive/1kHEQK2uk35xXZ_bzMUgLkoysJIWwznYr\n"
      ]
    },
    {
      "metadata": {
        "id": "V2S37bciJ0rW",
        "colab_type": "text"
      },
      "cell_type": "markdown",
      "source": [
        "### Downgrade prompt-toolkit to 1.0.15 (Destination - Local)\n",
        "Run this **ONLY** if the Installation not Working"
      ]
    },
    {
      "metadata": {
        "id": "x0dlIgSUJ19q",
        "colab_type": "code",
        "colab": {}
      },
      "cell_type": "code",
      "source": [
        "# !pip install 'prompt-toolkit==1.0.15'"
      ],
      "execution_count": 0,
      "outputs": []
    },
    {
      "metadata": {
        "id": "wsjTyacRJ-ji",
        "colab_type": "text"
      },
      "cell_type": "markdown",
      "source": [
        "### Google Object Detection API Installation (Destination - Local)"
      ]
    },
    {
      "metadata": {
        "id": "V8sD3HbnEhq1",
        "colab_type": "code",
        "outputId": "8cb2ebb4-ba58-4d6a-f29c-30ef6383bd67",
        "colab": {
          "base_uri": "https://localhost:8080/",
          "height": 54
        }
      },
      "cell_type": "code",
      "source": [
        "!apt-get install -y -qq protobuf-compiler python-pil python-lxml\n",
        "![ ! -e {DEFAULT_HOME}/models ] && git clone --depth=1 --quiet https://github.com/tensorflow/models.git {DEFAULT_HOME}/models\n",
        "!ls {DEFAULT_HOME}/models"
      ],
      "execution_count": 7,
      "outputs": [
        {
          "output_type": "stream",
          "text": [
            "AUTHORS     CONTRIBUTING.md    LICENSE\t README.md  samples    WORKSPACE\n",
            "CODEOWNERS  ISSUE_TEMPLATE.md  official  research   tutorials\n"
          ],
          "name": "stdout"
        }
      ]
    },
    {
      "metadata": {
        "id": "Lrcxm-rnEpEJ",
        "colab_type": "code",
        "outputId": "f449a5e4-00ac-4f21-a837-86236e0afe4a",
        "colab": {
          "base_uri": "https://localhost:8080/",
          "height": 35
        }
      },
      "cell_type": "code",
      "source": [
        "import os\n",
        "os.chdir(f'{DEFAULT_HOME}/models/research')\n",
        "!pwd"
      ],
      "execution_count": 8,
      "outputs": [
        {
          "output_type": "stream",
          "text": [
            "/content/models/research\n"
          ],
          "name": "stdout"
        }
      ]
    },
    {
      "metadata": {
        "id": "z8_fKK8SGX4k",
        "colab_type": "text"
      },
      "cell_type": "markdown",
      "source": [
        "*From Wikipedia ...*: \n",
        "\n",
        "**protocol buffers** are a language-neutral, platform-neutral extensible mechanism for serializing structured data – think XML, but smaller, faster, and simpler. \n",
        "\n",
        "You define how you want your data to be structured once, then you can **use special generated source code to easily write and read your structured data to and from a variety of data streams and using a variety of languages**.\n",
        "\n",
        "Remember **.proto defines structured data** and **protoc generates the source code** the serailize/de-serialize."
      ]
    },
    {
      "metadata": {
        "id": "k77QnbWPEuUU",
        "colab_type": "code",
        "outputId": "78b6dccf-f035-4b22-b901-2963c0018c9d",
        "colab": {
          "base_uri": "https://localhost:8080/",
          "height": 54
        }
      },
      "cell_type": "code",
      "source": [
        "!protoc object_detection/protos/*.proto --python_out=.\n",
        "# !ls object_detection/protos/*.proto\n",
        "# !cat object_detection/protos/anchor_generator.proto\n",
        "!ls {DEFAULT_HOME}/models/research/object_detection/builders/anchor*"
      ],
      "execution_count": 9,
      "outputs": [
        {
          "output_type": "stream",
          "text": [
            "/content/models/research/object_detection/builders/anchor_generator_builder.py\n",
            "/content/models/research/object_detection/builders/anchor_generator_builder_test.py\n"
          ],
          "name": "stdout"
        }
      ]
    },
    {
      "metadata": {
        "id": "muV6amLl4Bya",
        "colab_type": "text"
      },
      "cell_type": "markdown",
      "source": [
        "#### Add Google Object Detection API into System Path"
      ]
    },
    {
      "metadata": {
        "id": "RS2Aj9YEEv5_",
        "colab_type": "code",
        "colab": {}
      },
      "cell_type": "code",
      "source": [
        "import sys\n",
        "sys.path.append(f'{DEFAULT_HOME}/models/research')\n",
        "sys.path.append(f'{DEFAULT_HOME}/models/research/slim')"
      ],
      "execution_count": 0,
      "outputs": []
    },
    {
      "metadata": {
        "id": "LbDcBTuIXwBZ",
        "colab_type": "text"
      },
      "cell_type": "markdown",
      "source": [
        "Note that ! calls out to a shell (in a **NEW** process), while % affects the **SAME** process associated with the notebook.\n",
        "\n",
        "Since we append pathes to sys.path, we **HAVE TO** use % command to run the Python\n",
        "\n",
        "Also it is **IMPORTANT** to have **%matplotlib inline** otherwise %run model_builder_test.py will **cause function attribute error** when accessing matplotlib.pyplot attributes from **iPython's run_line_magic** "
      ]
    },
    {
      "metadata": {
        "id": "KrYcIPx7XPHG",
        "colab_type": "code",
        "colab": {}
      },
      "cell_type": "code",
      "source": [
        "# !find . -name 'inception*' -print\n",
        "%matplotlib inline"
      ],
      "execution_count": 0,
      "outputs": []
    },
    {
      "metadata": {
        "id": "ccpkEmORExv-",
        "colab_type": "code",
        "outputId": "8bf1bc7d-bfeb-4bed-e7c0-5e2bdac28413",
        "colab": {
          "base_uri": "https://localhost:8080/",
          "height": 108
        }
      },
      "cell_type": "code",
      "source": [
        "# If see the error 'function' object has no attribute 'called', just run the %matplotlib cell and this cell AGAIN \n",
        "%run object_detection/builders/model_builder_test.py\n",
        "\n",
        "import os\n",
        "os.chdir(f'{DEFAULT_HOME}')"
      ],
      "execution_count": 14,
      "outputs": [
        {
          "output_type": "stream",
          "text": [
            "............s...\n",
            "----------------------------------------------------------------------\n",
            "Ran 16 tests in 0.099s\n",
            "\n",
            "OK (skipped=1)\n"
          ],
          "name": "stderr"
        }
      ]
    },
    {
      "metadata": {
        "id": "aCJUcq6XbZo5",
        "colab_type": "text"
      },
      "cell_type": "markdown",
      "source": [
        "## Git Sync for any Change in colab-god-idclass "
      ]
    },
    {
      "metadata": {
        "id": "IiqAkpnYbbBm",
        "colab_type": "code",
        "outputId": "1fb54264-0ed4-4418-8e56-42786fb257ab",
        "colab": {
          "base_uri": "https://localhost:8080/",
          "height": 217
        }
      },
      "cell_type": "code",
      "source": [
        "![ -e {DEFAULT_HOME}/colab-god-idclass ] && git -C {DEFAULT_HOME}/colab-god-idclass pull\n",
        "![ ! -e {DEFAULT_HOME}/colab-god-idclass ] && git clone --depth=1 https://github.com/hailusong/colab-god-idclass.git {DEFAULT_HOME}/colab-god-idclass"
      ],
      "execution_count": 15,
      "outputs": [
        {
          "output_type": "stream",
          "text": [
            "remote: Enumerating objects: 7, done.\u001b[K\n",
            "remote: Counting objects:  14% (1/7)   \u001b[K\rremote: Counting objects:  28% (2/7)   \u001b[K\rremote: Counting objects:  42% (3/7)   \u001b[K\rremote: Counting objects:  57% (4/7)   \u001b[K\rremote: Counting objects:  71% (5/7)   \u001b[K\rremote: Counting objects:  85% (6/7)   \u001b[K\rremote: Counting objects: 100% (7/7)   \u001b[K\rremote: Counting objects: 100% (7/7), done.\u001b[K\n",
            "remote: Compressing objects: 100% (1/1)   \u001b[K\rremote: Compressing objects: 100% (1/1), done.\u001b[K\n",
            "remote: Total 4 (delta 3), reused 4 (delta 3), pack-reused 0\u001b[K\n",
            "Unpacking objects:  25% (1/4)   \rUnpacking objects:  50% (2/4)   \rUnpacking objects:  75% (3/4)   \rUnpacking objects: 100% (4/4)   \rUnpacking objects: 100% (4/4), done.\n",
            "From https://github.com/hailusong/colab-god-idclass\n",
            "   f687fc1..68a2859  master     -> origin/master\n",
            "Updating f687fc1..68a2859\n",
            "Fast-forward\n",
            " src/idservice.py | 8 \u001b[32m++++\u001b[m\u001b[31m----\u001b[m\n",
            " 1 file changed, 4 insertions(+), 4 deletions(-)\n"
          ],
          "name": "stdout"
        }
      ]
    },
    {
      "metadata": {
        "id": "sItSbiqRmyin",
        "colab_type": "text"
      },
      "cell_type": "markdown",
      "source": [
        "### Checking Your Google Cloud Storage Bucket"
      ]
    },
    {
      "metadata": {
        "id": "LIekVw8Nmup6",
        "colab_type": "code",
        "outputId": "c8df23b2-d486-4cf2-b675-a090222b434f",
        "colab": {
          "base_uri": "https://localhost:8080/",
          "height": 545
        }
      },
      "cell_type": "code",
      "source": [
        "!gsutil ls gs://{YOUR_GCS_BUCKET}/data_{MODEL_NAME}\n",
        "!gsutil ls gs://{YOUR_GCS_BUCKET}/generated"
      ],
      "execution_count": 16,
      "outputs": [
        {
          "output_type": "stream",
          "text": [
            "gs://id-norm/data_ssd_mobilenet_v2/label_map.pbtxt\n",
            "gs://id-norm/data_ssd_mobilenet_v2/model.ckpt.data-00000-of-00001\n",
            "gs://id-norm/data_ssd_mobilenet_v2/model.ckpt.index\n",
            "gs://id-norm/data_ssd_mobilenet_v2/model.ckpt.meta\n",
            "gs://id-norm/data_ssd_mobilenet_v2/pipeline_ssd_mobilenet_v2_processed.config\n",
            "gs://id-norm/data_ssd_mobilenet_v2/test.record\n",
            "gs://id-norm/data_ssd_mobilenet_v2/train.record\n",
            "gs://id-norm/generated/bbox-train-non-id1.csv\n",
            "gs://id-norm/generated/bbox-train-non-id2.csv\n",
            "gs://id-norm/generated/bbox-train-non-id3.csv\n",
            "gs://id-norm/generated/bbox-train-on-dl.csv\n",
            "gs://id-norm/generated/bbox-train-on-hc.csv\n",
            "gs://id-norm/generated/bbox-valid-non-id1.csv\n",
            "gs://id-norm/generated/bbox-valid-non-id2.csv\n",
            "gs://id-norm/generated/bbox-valid-non-id3.csv\n",
            "gs://id-norm/generated/bbox-valid-on-dl.csv\n",
            "gs://id-norm/generated/bbox-valid-on-hc.csv\n",
            "gs://id-norm/generated/pnts-train-non-id1.csv\n",
            "gs://id-norm/generated/pnts-train-non-id2.csv\n",
            "gs://id-norm/generated/pnts-train-non-id3.csv\n",
            "gs://id-norm/generated/pnts-train-on-dl.csv\n",
            "gs://id-norm/generated/pnts-train-on-hc.csv\n",
            "gs://id-norm/generated/pnts-valid-non-id1.csv\n",
            "gs://id-norm/generated/pnts-valid-non-id2.csv\n",
            "gs://id-norm/generated/pnts-valid-non-id3.csv\n",
            "gs://id-norm/generated/pnts-valid-on-dl.csv\n",
            "gs://id-norm/generated/pnts-valid-on-hc.csv\n",
            "gs://id-norm/generated/Train/\n",
            "gs://id-norm/generated/Valid/\n"
          ],
          "name": "stdout"
        }
      ]
    },
    {
      "metadata": {
        "id": "YzTY0Q5SZhJ-",
        "colab_type": "text"
      },
      "cell_type": "markdown",
      "source": [
        "### Download trained Dlib key points model"
      ]
    },
    {
      "metadata": {
        "id": "2LMM9iNWZp4C",
        "colab_type": "code",
        "colab": {}
      },
      "cell_type": "code",
      "source": [
        "NU=0.1\n",
        "TREE_DEPTH=4\n",
        "CASCADE_DEPTH=15\n",
        "FEATURE_POOL_SIZE=800\n",
        "NUM_TEST_SPLITS=200\n",
        "OVERSAMPLING_AMT=10"
      ],
      "execution_count": 0,
      "outputs": []
    },
    {
      "metadata": {
        "id": "0_ZB9xcfZk_1",
        "colab_type": "code",
        "colab": {}
      },
      "cell_type": "code",
      "source": [
        "id_keypoints_fname = f'id_keypoints_dlib_nu{NU}td{TREE_DEPTH}cd{CASCADE_DEPTH}fp{FEATURE_POOL_SIZE}nt{NUM_TEST_SPLITS}oa{OVERSAMPLING_AMT}.dat'\n",
        "id_keypoints_dat = f'{DEFAULT_HOME}/id_keypoints_dlib.dat'\n",
        "\n",
        "![ ! -e {id_keypoints_dat} ] && gsutil cp gs://{YOUR_GCS_BUCKET}/{id_keypoints_fname} {id_keypoints_dat}"
      ],
      "execution_count": 0,
      "outputs": []
    },
    {
      "metadata": {
        "id": "GmmS7dXejke0",
        "colab_type": "text"
      },
      "cell_type": "markdown",
      "source": [
        "## Run Flask"
      ]
    },
    {
      "metadata": {
        "id": "k9Jj2W0Ak5rC",
        "colab_type": "text"
      },
      "cell_type": "markdown",
      "source": [
        "### Setup Ngrok"
      ]
    },
    {
      "metadata": {
        "id": "-JjEkCk1twch",
        "colab_type": "code",
        "outputId": "94c54088-a9d6-4a5e-d08d-5674a9bbb794",
        "colab": {
          "base_uri": "https://localhost:8080/",
          "height": 108
        }
      },
      "cell_type": "code",
      "source": [
        "!pip install ujson\n",
        "!pip install lz4\n",
        "!pip install py-lz4framed\n",
        "!pip install pillow"
      ],
      "execution_count": 19,
      "outputs": [
        {
          "output_type": "stream",
          "text": [
            "Requirement already satisfied: ujson in /usr/local/lib/python3.6/dist-packages (1.35)\n",
            "Requirement already satisfied: lz4 in /usr/local/lib/python3.6/dist-packages (2.1.6)\n",
            "Requirement already satisfied: py-lz4framed in /usr/local/lib/python3.6/dist-packages (0.13.0)\n",
            "Requirement already satisfied: pillow in /usr/local/lib/python3.6/dist-packages (4.3.0)\n",
            "Requirement already satisfied: olefile in /usr/local/lib/python3.6/dist-packages (from pillow) (0.46)\n"
          ],
          "name": "stdout"
        }
      ]
    },
    {
      "metadata": {
        "id": "KO_5PPACjI0s",
        "colab_type": "code",
        "outputId": "2966e5bb-8bba-4d93-efd0-9c15a142aa58",
        "colab": {
          "base_uri": "https://localhost:8080/",
          "height": 599
        }
      },
      "cell_type": "code",
      "source": [
        "!pip install flask\n",
        "!pip install flask-ngrok\n",
        "!wget https://bin.equinox.io/c/4VmDzA7iaHb/ngrok-stable-linux-amd64.zip\n",
        "!unzip ngrok-stable-linux-amd64.zip"
      ],
      "execution_count": 20,
      "outputs": [
        {
          "output_type": "stream",
          "text": [
            "Requirement already satisfied: flask in /usr/local/lib/python3.6/dist-packages (1.0.2)\n",
            "Requirement already satisfied: itsdangerous>=0.24 in /usr/local/lib/python3.6/dist-packages (from flask) (1.1.0)\n",
            "Requirement already satisfied: click>=5.1 in /usr/local/lib/python3.6/dist-packages (from flask) (7.0)\n",
            "Requirement already satisfied: Jinja2>=2.10 in /usr/local/lib/python3.6/dist-packages (from flask) (2.10.1)\n",
            "Requirement already satisfied: Werkzeug>=0.14 in /usr/local/lib/python3.6/dist-packages (from flask) (0.15.2)\n",
            "Requirement already satisfied: MarkupSafe>=0.23 in /usr/local/lib/python3.6/dist-packages (from Jinja2>=2.10->flask) (1.1.1)\n",
            "Requirement already satisfied: flask-ngrok in /usr/local/lib/python3.6/dist-packages (0.0.25)\n",
            "Requirement already satisfied: requests in /usr/local/lib/python3.6/dist-packages (from flask-ngrok) (2.18.4)\n",
            "Requirement already satisfied: Flask>=0.8 in /usr/local/lib/python3.6/dist-packages (from flask-ngrok) (1.0.2)\n",
            "Requirement already satisfied: chardet<3.1.0,>=3.0.2 in /usr/local/lib/python3.6/dist-packages (from requests->flask-ngrok) (3.0.4)\n",
            "Requirement already satisfied: urllib3<1.23,>=1.21.1 in /usr/local/lib/python3.6/dist-packages (from requests->flask-ngrok) (1.22)\n",
            "Requirement already satisfied: certifi>=2017.4.17 in /usr/local/lib/python3.6/dist-packages (from requests->flask-ngrok) (2019.3.9)\n",
            "Requirement already satisfied: idna<2.7,>=2.5 in /usr/local/lib/python3.6/dist-packages (from requests->flask-ngrok) (2.6)\n",
            "Requirement already satisfied: Jinja2>=2.10 in /usr/local/lib/python3.6/dist-packages (from Flask>=0.8->flask-ngrok) (2.10.1)\n",
            "Requirement already satisfied: Werkzeug>=0.14 in /usr/local/lib/python3.6/dist-packages (from Flask>=0.8->flask-ngrok) (0.15.2)\n",
            "Requirement already satisfied: itsdangerous>=0.24 in /usr/local/lib/python3.6/dist-packages (from Flask>=0.8->flask-ngrok) (1.1.0)\n",
            "Requirement already satisfied: click>=5.1 in /usr/local/lib/python3.6/dist-packages (from Flask>=0.8->flask-ngrok) (7.0)\n",
            "Requirement already satisfied: MarkupSafe>=0.23 in /usr/local/lib/python3.6/dist-packages (from Jinja2>=2.10->Flask>=0.8->flask-ngrok) (1.1.1)\n",
            "--2019-04-18 17:29:17--  https://bin.equinox.io/c/4VmDzA7iaHb/ngrok-stable-linux-amd64.zip\n",
            "Resolving bin.equinox.io (bin.equinox.io)... 34.232.40.183, 52.3.53.115, 52.72.250.2, ...\n",
            "Connecting to bin.equinox.io (bin.equinox.io)|34.232.40.183|:443... connected.\n",
            "HTTP request sent, awaiting response... 200 OK\n",
            "Length: 14977695 (14M) [application/octet-stream]\n",
            "Saving to: ‘ngrok-stable-linux-amd64.zip.5’\n",
            "\n",
            "ngrok-stable-linux- 100%[===================>]  14.28M  40.9MB/s    in 0.3s    \n",
            "\n",
            "2019-04-18 17:29:17 (40.9 MB/s) - ‘ngrok-stable-linux-amd64.zip.5’ saved [14977695/14977695]\n",
            "\n",
            "Archive:  ngrok-stable-linux-amd64.zip\n",
            "replace ngrok? [y]es, [n]o, [A]ll, [N]one, [r]ename: y\n",
            "  inflating: ngrok                   \n"
          ],
          "name": "stdout"
        }
      ]
    },
    {
      "metadata": {
        "id": "QEZ8itzHqaan",
        "colab_type": "text"
      },
      "cell_type": "markdown",
      "source": [
        "### Explicitly Import Flask\n",
        "Otherwise there could be 'Cannot Import Flask' error when running Flask.py"
      ]
    },
    {
      "metadata": {
        "id": "DeqDRbNWpeLT",
        "colab_type": "code",
        "colab": {}
      },
      "cell_type": "code",
      "source": [
        "from flask import Flask"
      ],
      "execution_count": 0,
      "outputs": []
    },
    {
      "metadata": {
        "id": "gbW8BAHD96wL",
        "colab_type": "text"
      },
      "cell_type": "markdown",
      "source": [
        "### Try Inference First"
      ]
    },
    {
      "metadata": {
        "id": "IJBBbnl0A0tP",
        "colab_type": "code",
        "colab": {}
      },
      "cell_type": "code",
      "source": [
        "import matplotlib.pyplot as plt\n",
        "import matplotlib.patches as patches\n",
        "from PIL import Image\n",
        "import numpy as np\n",
        "\n",
        "def preview(pil_im:Image, rect:list, markers_x:list, markers_y:list):\n",
        "    \"\"\"\n",
        "    rect:\n",
        "        (x, y, width, height)\n",
        "    \n",
        "    markers_x/y:\n",
        "        (x0, x1, ...)\n",
        "        (y0, y1, ...)\n",
        "    \"\"\"\n",
        "    im = np.array(pil_im, dtype=np.uint8)\n",
        "\n",
        "    # create figure and axes\n",
        "    fig ,ax = plt.subplots(1)\n",
        "\n",
        "    # display the image\n",
        "    ax.imshow(im)\n",
        "\n",
        "    # create a Rectangle patch\n",
        "    rect = patches.Rectangle(rect[:2], *rect[2:], linewidth=1, edgecolor='r', facecolor='none')\n",
        "\n",
        "    # add the patch to the Axes\n",
        "    ax.add_patch(rect)\n",
        "\n",
        "    # markers\n",
        "#     plt.annotate('25, 50', xy=(25, 50), xycoords='data',\n",
        "#              xytext=(0.5, 0.5), textcoords='figure fraction',\n",
        "#              arrowprops=dict(arrowstyle=\"->\"))\n",
        "    plt.scatter(markers_x, markers_y, c='red', marker='o')\n",
        "\n",
        "    plt.show()"
      ],
      "execution_count": 0,
      "outputs": []
    },
    {
      "metadata": {
        "id": "0prEwoNr99rm",
        "colab_type": "code",
        "outputId": "71caa728-1262-463d-8798-76e24e072f75",
        "colab": {
          "base_uri": "https://localhost:8080/",
          "height": 35
        }
      },
      "cell_type": "code",
      "source": [
        "import sys\n",
        "sys.path.append(f'{DEFAULT_HOME}/colab-god-idclass/src')\n",
        "\n",
        "import idservice\n",
        "\n",
        "# download some test images\n",
        "![ ! -e {DEFAULT_HOME}/Capture0.PNG ] && gsutil cp gs://{YOUR_GCS_BUCKET}/test_images/Capture0.PNG {DEFAULT_HOME}/."
      ],
      "execution_count": 23,
      "outputs": [
        {
          "output_type": "stream",
          "text": [
            "1.13.1\n"
          ],
          "name": "stdout"
        }
      ]
    },
    {
      "metadata": {
        "id": "bcrahk0kW4Dk",
        "colab_type": "code",
        "colab": {}
      },
      "cell_type": "code",
      "source": [
        "# some snippet from idservice._inference\n",
        "# ------------------------------------------\n",
        "# image_np = idservice.load_image_into_numpy_array(im)\n",
        "\n",
        "# # Expand dimensions since the model expects images to have shape: [1, None, None, 3]\n",
        "# image_np_expanded = np.expand_dims(image_np, axis=0)\n",
        "\n",
        "# # Actual detection.\n",
        "# output_dict = idservice.run_inference_for_single_image(image_np, idservice.detection_graph)\n",
        "\n",
        "# # confidence threshold is 0.8\n",
        "# indic = np.argmax(output_dict['detection_scores'])\n",
        "# confidence = output_dict['detection_scores'][indic]\n",
        "\n",
        "im = Image.open(f'{DEFAULT_HOME}/Capture0.PNG')\n",
        "confidence, bboxes, bboxes_abs, labels, pnts = idservice._inference(im)\n",
        "\n",
        "markers_x, markers_y = zip(*pnts)\n",
        "\n",
        "if confidence >= 0.8:\n",
        "    preview(im, bboxes_abs, markers_x, markers_y)\n",
        "else:\n",
        "    print(f'{confidence} is less than threshold 0.8')"
      ],
      "execution_count": 0,
      "outputs": []
    },
    {
      "metadata": {
        "id": "gx6tmgg7qkPr",
        "colab_type": "text"
      },
      "cell_type": "markdown",
      "source": [
        "### Run Flask to Serve Inference\n",
        "***BEFORE RUNNING THIS MAKE SURE THE MODEL_NAME IS SET TO PROPER VALUE IN FLASK.PY***"
      ]
    },
    {
      "metadata": {
        "id": "j9P0R4Jr82Up",
        "colab_type": "code",
        "colab": {}
      },
      "cell_type": "code",
      "source": [
        "# Start ngrok tunneling process in the background\n",
        "get_ipython().system_raw('./ngrok http 5000 &')\n",
        "# !curl -s http://localhost:4040/api/tunnels | python3 -c \\\n",
        "#        \"import sys, json; print(json.load(sys.stdin)['tunnels'][0]['public_url'])\"\n",
        "\n",
        "# flask_ngrok_example.py\n",
        "# from flask import Flask\n",
        "# from flask_ngrok import run_with_ngrok\n",
        "# \n",
        "# app = Flask(__name__)\n",
        "# run_with_ngrok(app)  # Start ngrok when app is run\n",
        "# \n",
        "# @app.route(\"/\")\n",
        "# def hello():\n",
        "#     return \"Hello World!\"\n",
        "# \n",
        "# if __name__ == '__main__':\n",
        "#     app.run()\n",
        "\n",
        "# start up flask and connect with ngrok\n",
        "%run {DEFAULT_HOME}/colab-god-idclass/src/flask.py"
      ],
      "execution_count": 0,
      "outputs": []
    },
    {
      "metadata": {
        "id": "wE6TqxD-1TUR",
        "colab_type": "code",
        "colab": {}
      },
      "cell_type": "code",
      "source": [
        ""
      ],
      "execution_count": 0,
      "outputs": []
    }
  ]
}