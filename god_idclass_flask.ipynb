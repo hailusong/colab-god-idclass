{
  "nbformat": 4,
  "nbformat_minor": 0,
  "metadata": {
    "colab": {
      "name": "Flask on Colab",
      "version": "0.3.2",
      "provenance": [],
      "collapsed_sections": [],
      "include_colab_link": true
    },
    "kernelspec": {
      "name": "python3",
      "display_name": "Python 3"
    },
    "accelerator": "GPU"
  },
  "cells": [
    {
      "cell_type": "markdown",
      "metadata": {
        "id": "view-in-github",
        "colab_type": "text"
      },
      "source": [
        "<a href=\"https://colab.research.google.com/github/hailusong/colab-god-idclass/blob/master/god_idclass_flask.ipynb\" target=\"_parent\"><img src=\"https://colab.research.google.com/assets/colab-badge.svg\" alt=\"Open In Colab\"/></a>"
      ]
    },
    {
      "metadata": {
        "id": "TjlYaLbjqZ8T",
        "colab_type": "text"
      },
      "cell_type": "markdown",
      "source": [
        "# Flask Serving: Custom Train Google Object Detection to Detect ID BBox"
      ]
    },
    {
      "metadata": {
        "id": "2R9EiJRx7bMQ",
        "colab_type": "text"
      },
      "cell_type": "markdown",
      "source": [
        "**FIRST OF ALL: CHOOSE RUNTIME ENVIRONMENT TYPE TO BE GPU**<br>\n",
        "Environment variables setup.<br>\n",
        "**Tensorflow runtime version list** can be found at [here](https://cloud.google.com/ml-engine/docs/tensorflow/runtime-version-list)"
      ]
    },
    {
      "metadata": {
        "id": "P6Xb78JiIUaY",
        "colab_type": "code",
        "colab": {}
      },
      "cell_type": "code",
      "source": [
        "DEFAULT_HOME='/content'\n",
        "TF_RT_VERSION='1.13'\n",
        "PYTHON_VERSION='3.5'\n",
        "\n",
        "YOUR_GCS_BUCKET='id-norm'\n",
        "YOUR_PROJECT='orbital-purpose-130316'"
      ],
      "execution_count": 0,
      "outputs": []
    },
    {
      "metadata": {
        "id": "MaJPIv43jhUu",
        "colab_type": "text"
      },
      "cell_type": "markdown",
      "source": [
        "Select the right model from [this official list](https://github.com/tensorflow/models/blob/master/research/object_detection/g3doc/detection_model_zoo.md):\n",
        "\n",
        "| model | dataset | datetime | notes |\n",
        "| - |  - | - | - |\n",
        "| ssd_inception_v2 | coco | 2018_01_28 | |\n",
        "| ~~ssd_inception_v3~~ | ~~pets~~ | ~~11_06_2017~~ | |\n",
        "| ssd_mobilenet_v2 | coco | 2018_03_29 | |\n",
        "| faster_rcnn_resnet101 | coco | 11_06_2017 | |"
      ]
    },
    {
      "metadata": {
        "id": "t8YjdY8yjiMj",
        "colab_type": "code",
        "colab": {}
      },
      "cell_type": "code",
      "source": [
        "DOWNLOAD_BASE = 'http://download.tensorflow.org/models/object_detection/'\n",
        "\n",
        "MODEL_NAME = 'ssd_mobilenet_v2'\n",
        "PRETRAINED_DATASET = 'coco'\n",
        "PRETRAINED_TS = '2018_03_29'\n",
        "PRETRAINED_MODEL_NAME = f'{MODEL_NAME}_{PRETRAINED_DATASET}_{PRETRAINED_TS}'\n",
        "PIPELINE_CONFIG_NAME = f'pipeline_{MODEL_NAME}'"
      ],
      "execution_count": 0,
      "outputs": []
    },
    {
      "metadata": {
        "id": "0bAXZIZvDcv8",
        "colab_type": "text"
      },
      "cell_type": "markdown",
      "source": [
        "## Session and Environment Verification (Destination - Local)"
      ]
    },
    {
      "metadata": {
        "id": "-prrcYsojlYy",
        "colab_type": "code",
        "colab": {}
      },
      "cell_type": "code",
      "source": [
        ""
      ],
      "execution_count": 0,
      "outputs": []
    },
    {
      "metadata": {
        "id": "ogk6pbZ_DAYc",
        "colab_type": "text"
      },
      "cell_type": "markdown",
      "source": [
        "Establish security session with Google Cloud"
      ]
    },
    {
      "metadata": {
        "id": "JuDI1KX7rRpq",
        "colab_type": "code",
        "colab": {}
      },
      "cell_type": "code",
      "source": [
        "from google.colab import auth\n",
        "auth.authenticate_user()\n"
      ],
      "execution_count": 0,
      "outputs": []
    },
    {
      "metadata": {
        "id": "L2u7WXAwd8Si",
        "colab_type": "text"
      },
      "cell_type": "markdown",
      "source": [
        "################# RE-RUN ABOVE CELLS IF NEED TO RESTART RUNTIME #################"
      ]
    },
    {
      "metadata": {
        "id": "1mU8k4b2DZ8C",
        "colab_type": "text"
      },
      "cell_type": "markdown",
      "source": [
        "Verify Versions: TF, Python, IPython and prompt_toolkit (these two need to have compatible version), and protoc"
      ]
    },
    {
      "metadata": {
        "id": "p8pW_0h7r4L5",
        "colab_type": "code",
        "outputId": "465ec05a-dd4b-428e-e2b9-522014c26838",
        "colab": {
          "base_uri": "https://localhost:8080/",
          "height": 34
        }
      },
      "cell_type": "code",
      "source": [
        "import tensorflow as tf\n",
        "print(tf.__version__)\n",
        "assert(tf.__version__.startswith(TF_RT_VERSION + '.')), f'tf.__version__ {tf.__version__} not matching with specified TF runtime version env variable {TF_RT_VERSION}'"
      ],
      "execution_count": 4,
      "outputs": [
        {
          "output_type": "stream",
          "text": [
            "1.13.1\n"
          ],
          "name": "stdout"
        }
      ]
    },
    {
      "metadata": {
        "id": "d-WRNGIpFfo-",
        "colab_type": "code",
        "outputId": "885c2f5a-53a9-42da-c4f6-5482ea341435",
        "colab": {
          "base_uri": "https://localhost:8080/",
          "height": 238
        }
      },
      "cell_type": "code",
      "source": [
        "!python -V\n",
        "!ipython --version\n",
        "!pip show prompt_toolkit\n",
        "!protoc --version"
      ],
      "execution_count": 5,
      "outputs": [
        {
          "output_type": "stream",
          "text": [
            "Python 3.6.7\n",
            "5.5.0\n",
            "Name: prompt-toolkit\n",
            "Version: 1.0.15\n",
            "Summary: Library for building powerful interactive command lines in Python\n",
            "Home-page: https://github.com/jonathanslenders/python-prompt-toolkit\n",
            "Author: Jonathan Slenders\n",
            "Author-email: UNKNOWN\n",
            "License: UNKNOWN\n",
            "Location: /usr/local/lib/python3.6/dist-packages\n",
            "Requires: six, wcwidth\n",
            "Required-by: jupyter-console, ipython\n",
            "libprotoc 3.0.0\n"
          ],
          "name": "stdout"
        }
      ]
    },
    {
      "metadata": {
        "id": "omvtVm1tEXTk",
        "colab_type": "text"
      },
      "cell_type": "markdown",
      "source": [
        "## Install Google Object Detection API in Colab\n",
        "Reference is https://colab.research.google.com/drive/1kHEQK2uk35xXZ_bzMUgLkoysJIWwznYr\n"
      ]
    },
    {
      "metadata": {
        "id": "V2S37bciJ0rW",
        "colab_type": "text"
      },
      "cell_type": "markdown",
      "source": [
        "### Downgrade prompt-toolkit to 1.0.15 (Destination - Local)\n",
        "Run this **ONLY** if the Installation not Working"
      ]
    },
    {
      "metadata": {
        "id": "x0dlIgSUJ19q",
        "colab_type": "code",
        "colab": {}
      },
      "cell_type": "code",
      "source": [
        "# !pip install 'prompt-toolkit==1.0.15'"
      ],
      "execution_count": 0,
      "outputs": []
    },
    {
      "metadata": {
        "id": "wsjTyacRJ-ji",
        "colab_type": "text"
      },
      "cell_type": "markdown",
      "source": [
        "### Google Object Detection API Installation (Destination - Local)"
      ]
    },
    {
      "metadata": {
        "id": "V8sD3HbnEhq1",
        "colab_type": "code",
        "outputId": "18eacab4-28d1-4126-cf82-b0f3f56064d7",
        "colab": {
          "base_uri": "https://localhost:8080/",
          "height": 51
        }
      },
      "cell_type": "code",
      "source": [
        "!apt-get install -y -qq protobuf-compiler python-pil python-lxml\n",
        "![ ! -e {DEFAULT_HOME}/models ] && git clone --depth=1 --quiet https://github.com/tensorflow/models.git {DEFAULT_HOME}/models\n",
        "!ls {DEFAULT_HOME}/models"
      ],
      "execution_count": 7,
      "outputs": [
        {
          "output_type": "stream",
          "text": [
            "AUTHORS     CONTRIBUTING.md    LICENSE\t README.md  samples    WORKSPACE\n",
            "CODEOWNERS  ISSUE_TEMPLATE.md  official  research   tutorials\n"
          ],
          "name": "stdout"
        }
      ]
    },
    {
      "metadata": {
        "id": "Lrcxm-rnEpEJ",
        "colab_type": "code",
        "outputId": "ee5ef2a3-fefa-47b2-ed5d-08c55b7a9446",
        "colab": {
          "base_uri": "https://localhost:8080/",
          "height": 34
        }
      },
      "cell_type": "code",
      "source": [
        "import os\n",
        "os.chdir(f'{DEFAULT_HOME}/models/research')\n",
        "!pwd"
      ],
      "execution_count": 8,
      "outputs": [
        {
          "output_type": "stream",
          "text": [
            "/content/models/research\n"
          ],
          "name": "stdout"
        }
      ]
    },
    {
      "metadata": {
        "id": "z8_fKK8SGX4k",
        "colab_type": "text"
      },
      "cell_type": "markdown",
      "source": [
        "*From Wikipedia ...*: \n",
        "\n",
        "**protocol buffers** are a language-neutral, platform-neutral extensible mechanism for serializing structured data – think XML, but smaller, faster, and simpler. \n",
        "\n",
        "You define how you want your data to be structured once, then you can **use special generated source code to easily write and read your structured data to and from a variety of data streams and using a variety of languages**.\n",
        "\n",
        "Remember **.proto defines structured data** and **protoc generates the source code** the serailize/de-serialize."
      ]
    },
    {
      "metadata": {
        "id": "k77QnbWPEuUU",
        "colab_type": "code",
        "outputId": "314be210-93ad-47ba-80dd-5edf0a5146c8",
        "colab": {
          "base_uri": "https://localhost:8080/",
          "height": 51
        }
      },
      "cell_type": "code",
      "source": [
        "!protoc object_detection/protos/*.proto --python_out=.\n",
        "# !ls object_detection/protos/*.proto\n",
        "# !cat object_detection/protos/anchor_generator.proto\n",
        "!ls {DEFAULT_HOME}/models/research/object_detection/builders/anchor*"
      ],
      "execution_count": 9,
      "outputs": [
        {
          "output_type": "stream",
          "text": [
            "/content/models/research/object_detection/builders/anchor_generator_builder.py\n",
            "/content/models/research/object_detection/builders/anchor_generator_builder_test.py\n"
          ],
          "name": "stdout"
        }
      ]
    },
    {
      "metadata": {
        "id": "muV6amLl4Bya",
        "colab_type": "text"
      },
      "cell_type": "markdown",
      "source": [
        "#### Add Google Object Detection API into System Path"
      ]
    },
    {
      "metadata": {
        "id": "RS2Aj9YEEv5_",
        "colab_type": "code",
        "colab": {}
      },
      "cell_type": "code",
      "source": [
        "import sys\n",
        "sys.path.append(f'{DEFAULT_HOME}/models/research')\n",
        "sys.path.append(f'{DEFAULT_HOME}/models/research/slim')"
      ],
      "execution_count": 0,
      "outputs": []
    },
    {
      "metadata": {
        "id": "LbDcBTuIXwBZ",
        "colab_type": "text"
      },
      "cell_type": "markdown",
      "source": [
        "Note that ! calls out to a shell (in a **NEW** process), while % affects the **SAME** process associated with the notebook.\n",
        "\n",
        "Since we append pathes to sys.path, we **HAVE TO** use % command to run the Python\n",
        "\n",
        "Also it is **IMPORTANT** to have **%matplotlib inline** otherwise %run model_builder_test.py will **cause function attribute error** when accessing matplotlib.pyplot attributes from **iPython's run_line_magic** "
      ]
    },
    {
      "metadata": {
        "id": "KrYcIPx7XPHG",
        "colab_type": "code",
        "colab": {}
      },
      "cell_type": "code",
      "source": [
        "# !find . -name 'inception*' -print\n",
        "%matplotlib inline"
      ],
      "execution_count": 0,
      "outputs": []
    },
    {
      "metadata": {
        "id": "ccpkEmORExv-",
        "colab_type": "code",
        "outputId": "07684cec-53e9-4f69-8185-5bbb4cba96ae",
        "colab": {
          "base_uri": "https://localhost:8080/",
          "height": 102
        }
      },
      "cell_type": "code",
      "source": [
        "# If see the error 'function' object has no attribute 'called', just run the %matplotlib cell and this cell AGAIN \n",
        "%run object_detection/builders/model_builder_test.py\n",
        "\n",
        "import os\n",
        "os.chdir(f'{DEFAULT_HOME}')"
      ],
      "execution_count": 14,
      "outputs": [
        {
          "output_type": "stream",
          "text": [
            "............s...\n",
            "----------------------------------------------------------------------\n",
            "Ran 16 tests in 0.131s\n",
            "\n",
            "OK (skipped=1)\n"
          ],
          "name": "stderr"
        }
      ]
    },
    {
      "metadata": {
        "id": "aCJUcq6XbZo5",
        "colab_type": "text"
      },
      "cell_type": "markdown",
      "source": [
        "## Git Sync for any Change in colab-god-idclass "
      ]
    },
    {
      "metadata": {
        "id": "IiqAkpnYbbBm",
        "colab_type": "code",
        "outputId": "ba2b54e4-f7bb-49cf-dcff-34bcf096d390",
        "colab": {
          "base_uri": "https://localhost:8080/",
          "height": 119
        }
      },
      "cell_type": "code",
      "source": [
        "![ -e {DEFAULT_HOME}/colab-god-idclass ] && git -C {DEFAULT_HOME}/colab-god-idclass pull\n",
        "![ ! -e {DEFAULT_HOME}/colab-god-idclass ] && git clone --depth=1 https://github.com/hailusong/colab-god-idclass.git {DEFAULT_HOME}/colab-god-idclass"
      ],
      "execution_count": 15,
      "outputs": [
        {
          "output_type": "stream",
          "text": [
            "Cloning into '/content/colab-god-idclass'...\n",
            "remote: Enumerating objects: 26, done.\u001b[K\n",
            "remote: Counting objects: 100% (26/26), done.\u001b[K\n",
            "remote: Compressing objects: 100% (25/25), done.\u001b[K\n",
            "remote: Total 26 (delta 7), reused 8 (delta 0), pack-reused 0\u001b[K\n",
            "Unpacking objects: 100% (26/26), done.\n"
          ],
          "name": "stdout"
        }
      ]
    },
    {
      "metadata": {
        "id": "sItSbiqRmyin",
        "colab_type": "text"
      },
      "cell_type": "markdown",
      "source": [
        "### Checking Your Google Cloud Storage Bucket"
      ]
    },
    {
      "metadata": {
        "id": "LIekVw8Nmup6",
        "colab_type": "code",
        "outputId": "55929649-2620-4676-b99b-b7f40639ea6f",
        "colab": {
          "base_uri": "https://localhost:8080/",
          "height": 510
        }
      },
      "cell_type": "code",
      "source": [
        "!gsutil ls gs://{YOUR_GCS_BUCKET}/data_{MODEL_NAME}\n",
        "!gsutil ls gs://{YOUR_GCS_BUCKET}/generated"
      ],
      "execution_count": 16,
      "outputs": [
        {
          "output_type": "stream",
          "text": [
            "gs://id-norm/data_ssd_mobilenet_v2/label_map.pbtxt\n",
            "gs://id-norm/data_ssd_mobilenet_v2/model.ckpt.data-00000-of-00001\n",
            "gs://id-norm/data_ssd_mobilenet_v2/model.ckpt.index\n",
            "gs://id-norm/data_ssd_mobilenet_v2/model.ckpt.meta\n",
            "gs://id-norm/data_ssd_mobilenet_v2/pipeline_ssd_mobilenet_v2_processed.config\n",
            "gs://id-norm/data_ssd_mobilenet_v2/test.record\n",
            "gs://id-norm/data_ssd_mobilenet_v2/train.record\n",
            "gs://id-norm/generated/bbox-train-non-id1.csv\n",
            "gs://id-norm/generated/bbox-train-non-id2.csv\n",
            "gs://id-norm/generated/bbox-train-non-id3.csv\n",
            "gs://id-norm/generated/bbox-train-on-dl.csv\n",
            "gs://id-norm/generated/bbox-train-on-hc.csv\n",
            "gs://id-norm/generated/bbox-valid-non-id1.csv\n",
            "gs://id-norm/generated/bbox-valid-non-id2.csv\n",
            "gs://id-norm/generated/bbox-valid-non-id3.csv\n",
            "gs://id-norm/generated/bbox-valid-on-dl.csv\n",
            "gs://id-norm/generated/bbox-valid-on-hc.csv\n",
            "gs://id-norm/generated/pnts-train-non-id1.csv\n",
            "gs://id-norm/generated/pnts-train-non-id2.csv\n",
            "gs://id-norm/generated/pnts-train-non-id3.csv\n",
            "gs://id-norm/generated/pnts-train-on-dl.csv\n",
            "gs://id-norm/generated/pnts-train-on-hc.csv\n",
            "gs://id-norm/generated/pnts-valid-non-id1.csv\n",
            "gs://id-norm/generated/pnts-valid-non-id2.csv\n",
            "gs://id-norm/generated/pnts-valid-non-id3.csv\n",
            "gs://id-norm/generated/pnts-valid-on-dl.csv\n",
            "gs://id-norm/generated/pnts-valid-on-hc.csv\n",
            "gs://id-norm/generated/Train/\n",
            "gs://id-norm/generated/Valid/\n"
          ],
          "name": "stdout"
        }
      ]
    },
    {
      "metadata": {
        "id": "GmmS7dXejke0",
        "colab_type": "text"
      },
      "cell_type": "markdown",
      "source": [
        "## Run Flask"
      ]
    },
    {
      "metadata": {
        "id": "k9Jj2W0Ak5rC",
        "colab_type": "text"
      },
      "cell_type": "markdown",
      "source": [
        "### Setup Ngrok"
      ]
    },
    {
      "metadata": {
        "id": "-JjEkCk1twch",
        "colab_type": "code",
        "outputId": "902dacb4-5514-4a1e-eb3c-2eebe0a67c64",
        "colab": {
          "base_uri": "https://localhost:8080/",
          "height": 306
        }
      },
      "cell_type": "code",
      "source": [
        "!pip install ujson\n",
        "!pip install lz4\n",
        "!pip install py-lz4framed\n",
        "!pip install pillow"
      ],
      "execution_count": 17,
      "outputs": [
        {
          "output_type": "stream",
          "text": [
            "Requirement already satisfied: ujson in /usr/local/lib/python3.6/dist-packages (1.35)\n",
            "Collecting lz4\n",
            "\u001b[?25l  Downloading https://files.pythonhosted.org/packages/83/fe/66da85ed881031de7cf7de9dd38cc98aec8859824c7bcd3e8a88d255f36d/lz4-2.1.6-cp36-cp36m-manylinux1_x86_64.whl (359kB)\n",
            "\u001b[K    100% |████████████████████████████████| 368kB 23.9MB/s \n",
            "\u001b[?25hInstalling collected packages: lz4\n",
            "Successfully installed lz4-2.1.6\n",
            "Collecting py-lz4framed\n",
            "\u001b[?25l  Downloading https://files.pythonhosted.org/packages/23/06/77fcb0ae69e4431584d67478166c5f9019bf175ba36ffe12250db5757552/py-lz4framed-0.13.0.tar.gz (104kB)\n",
            "\u001b[K    100% |████████████████████████████████| 112kB 6.1MB/s \n",
            "\u001b[?25hBuilding wheels for collected packages: py-lz4framed\n",
            "  Building wheel for py-lz4framed (setup.py) ... \u001b[?25ldone\n",
            "\u001b[?25h  Stored in directory: /root/.cache/pip/wheels/55/96/0b/b8e76112de5c48181d1e9318c5d86192947f692f7f8972fc6d\n",
            "Successfully built py-lz4framed\n",
            "Installing collected packages: py-lz4framed\n",
            "Successfully installed py-lz4framed-0.13.0\n",
            "Requirement already satisfied: pillow in /usr/local/lib/python3.6/dist-packages (4.1.1)\n",
            "Requirement already satisfied: olefile in /usr/local/lib/python3.6/dist-packages (from pillow) (0.46)\n"
          ],
          "name": "stdout"
        }
      ]
    },
    {
      "metadata": {
        "id": "KO_5PPACjI0s",
        "colab_type": "code",
        "outputId": "106ba3fc-01e6-4260-9d81-6c31e2a0e17c",
        "colab": {
          "base_uri": "https://localhost:8080/",
          "height": 595
        }
      },
      "cell_type": "code",
      "source": [
        "!pip install flask\n",
        "!pip install flask-ngrok\n",
        "!wget https://bin.equinox.io/c/4VmDzA7iaHb/ngrok-stable-linux-amd64.zip\n",
        "!unzip ngrok-stable-linux-amd64.zip"
      ],
      "execution_count": 18,
      "outputs": [
        {
          "output_type": "stream",
          "text": [
            "Requirement already satisfied: flask in /usr/local/lib/python3.6/dist-packages (1.0.2)\n",
            "Requirement already satisfied: Jinja2>=2.10 in /usr/local/lib/python3.6/dist-packages (from flask) (2.10)\n",
            "Requirement already satisfied: click>=5.1 in /usr/local/lib/python3.6/dist-packages (from flask) (7.0)\n",
            "Requirement already satisfied: Werkzeug>=0.14 in /usr/local/lib/python3.6/dist-packages (from flask) (0.15.2)\n",
            "Requirement already satisfied: itsdangerous>=0.24 in /usr/local/lib/python3.6/dist-packages (from flask) (1.1.0)\n",
            "Requirement already satisfied: MarkupSafe>=0.23 in /usr/local/lib/python3.6/dist-packages (from Jinja2>=2.10->flask) (1.1.1)\n",
            "Collecting flask-ngrok\n",
            "  Downloading https://files.pythonhosted.org/packages/af/6c/f54cb686ad1129e27d125d182f90f52b32f284e6c8df58c1bae54fa1adbc/flask_ngrok-0.0.25-py3-none-any.whl\n",
            "Requirement already satisfied: Flask>=0.8 in /usr/local/lib/python3.6/dist-packages (from flask-ngrok) (1.0.2)\n",
            "Requirement already satisfied: requests in /usr/local/lib/python3.6/dist-packages (from flask-ngrok) (2.18.4)\n",
            "Requirement already satisfied: itsdangerous>=0.24 in /usr/local/lib/python3.6/dist-packages (from Flask>=0.8->flask-ngrok) (1.1.0)\n",
            "Requirement already satisfied: Jinja2>=2.10 in /usr/local/lib/python3.6/dist-packages (from Flask>=0.8->flask-ngrok) (2.10)\n",
            "Requirement already satisfied: click>=5.1 in /usr/local/lib/python3.6/dist-packages (from Flask>=0.8->flask-ngrok) (7.0)\n",
            "Requirement already satisfied: Werkzeug>=0.14 in /usr/local/lib/python3.6/dist-packages (from Flask>=0.8->flask-ngrok) (0.15.2)\n",
            "Requirement already satisfied: chardet<3.1.0,>=3.0.2 in /usr/local/lib/python3.6/dist-packages (from requests->flask-ngrok) (3.0.4)\n",
            "Requirement already satisfied: certifi>=2017.4.17 in /usr/local/lib/python3.6/dist-packages (from requests->flask-ngrok) (2019.3.9)\n",
            "Requirement already satisfied: idna<2.7,>=2.5 in /usr/local/lib/python3.6/dist-packages (from requests->flask-ngrok) (2.6)\n",
            "Requirement already satisfied: urllib3<1.23,>=1.21.1 in /usr/local/lib/python3.6/dist-packages (from requests->flask-ngrok) (1.22)\n",
            "Requirement already satisfied: MarkupSafe>=0.23 in /usr/local/lib/python3.6/dist-packages (from Jinja2>=2.10->Flask>=0.8->flask-ngrok) (1.1.1)\n",
            "Installing collected packages: flask-ngrok\n",
            "Successfully installed flask-ngrok-0.0.25\n",
            "--2019-04-09 19:32:15--  https://bin.equinox.io/c/4VmDzA7iaHb/ngrok-stable-linux-amd64.zip\n",
            "Resolving bin.equinox.io (bin.equinox.io)... 52.207.111.186, 52.87.35.92, 34.206.9.96, ...\n",
            "Connecting to bin.equinox.io (bin.equinox.io)|52.207.111.186|:443... connected.\n",
            "HTTP request sent, awaiting response... 200 OK\n",
            "Length: 14977695 (14M) [application/octet-stream]\n",
            "Saving to: ‘ngrok-stable-linux-amd64.zip’\n",
            "\n",
            "ngrok-stable-linux- 100%[===================>]  14.28M  14.5MB/s    in 1.0s    \n",
            "\n",
            "2019-04-09 19:32:16 (14.5 MB/s) - ‘ngrok-stable-linux-amd64.zip’ saved [14977695/14977695]\n",
            "\n",
            "Archive:  ngrok-stable-linux-amd64.zip\n",
            "  inflating: ngrok                   \n"
          ],
          "name": "stdout"
        }
      ]
    },
    {
      "metadata": {
        "id": "QEZ8itzHqaan",
        "colab_type": "text"
      },
      "cell_type": "markdown",
      "source": [
        "### Explicitly Import Flask\n",
        "Otherwise there could be 'Cannot Import Flask' error when running Flask.py"
      ]
    },
    {
      "metadata": {
        "id": "DeqDRbNWpeLT",
        "colab_type": "code",
        "colab": {}
      },
      "cell_type": "code",
      "source": [
        "from flask import Flask"
      ],
      "execution_count": 0,
      "outputs": []
    },
    {
      "metadata": {
        "id": "gx6tmgg7qkPr",
        "colab_type": "text"
      },
      "cell_type": "markdown",
      "source": [
        "### Run Flask to Serve Inference\n",
        "***BEFORE RUNNING THIS MAKE SURE THE MODEL_NAME IS SET TO PROPER VALUE IN FLASK.PY***"
      ]
    },
    {
      "metadata": {
        "id": "j9P0R4Jr82Up",
        "colab_type": "code",
        "colab": {}
      },
      "cell_type": "code",
      "source": [
        "# Start ngrok tunneling process in the background\n",
        "get_ipython().system_raw('./ngrok http 5000 &')\n",
        "# !curl -s http://localhost:4040/api/tunnels | python3 -c \\\n",
        "#        \"import sys, json; print(json.load(sys.stdin)['tunnels'][0]['public_url'])\"\n",
        "\n",
        "# flask_ngrok_example.py\n",
        "# from flask import Flask\n",
        "# from flask_ngrok import run_with_ngrok\n",
        "# \n",
        "# app = Flask(__name__)\n",
        "# run_with_ngrok(app)  # Start ngrok when app is run\n",
        "# \n",
        "# @app.route(\"/\")\n",
        "# def hello():\n",
        "#     return \"Hello World!\"\n",
        "# \n",
        "# if __name__ == '__main__':\n",
        "#     app.run()\n",
        "\n",
        "# start up flask and connect with ngrok\n",
        "%run {DEFAULT_HOME}/colab-god-idclass/src/flask.py"
      ],
      "execution_count": 0,
      "outputs": []
    },
    {
      "metadata": {
        "id": "wE6TqxD-1TUR",
        "colab_type": "code",
        "colab": {}
      },
      "cell_type": "code",
      "source": [
        ""
      ],
      "execution_count": 0,
      "outputs": []
    }
  ]
}